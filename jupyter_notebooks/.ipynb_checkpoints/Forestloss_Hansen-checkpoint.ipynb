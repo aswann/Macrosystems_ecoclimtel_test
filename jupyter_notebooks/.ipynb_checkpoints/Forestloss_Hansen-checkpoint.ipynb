{
 "cells": [
  {
   "cell_type": "markdown",
   "metadata": {},
   "source": [
    "# Hansen et al. Forest loss data\n",
    "\n",
    "The data is in geotiff format, split into pieces\n",
    "\n",
    "I downloaded the \"lossyear\" data version 1.7  \n",
    "https://earthenginepartners.appspot.com/science-2013-global-forest/download_v1.7.html\n",
    "\n",
    "Which is described as:  \n",
    "**Year of gross forest cover loss event (lossyear)**  \n",
    "Forest loss during the period 2000–2019, defined as a stand-replacement disturbance, or a change from a forest to non-forest state. Encoded as either 0 (no loss) or else a value in the range 1–17, representing loss detected primarily in the year 2001–2019, respectively.\n",
    "\n",
    "Use the following credit when these data are displayed:  \n",
    "Source: Hansen/UMD/Google/USGS/NASA  \n",
    "\n",
    "Use the following credit when these data are cited:  \n",
    "\n",
    "Hansen, M. C., P. V. Potapov, R. Moore, M. Hancher, S. A. Turubanova, A. Tyukavina, D. Thau, S. V. Stehman, S. J. Goetz, T. R. Loveland, A. Kommareddy, A. Egorov, L. Chini, C. O. Justice, and J. R. G. Townshend. 2013. “High-Resolution Global Maps of 21st-Century Forest Cover Change.” Science 342 (15 November): 850–53. Data available on-line from: http://earthenginepartners.appspot.com/science-2013-global-forest."
   ]
  },
  {
   "cell_type": "code",
   "execution_count": 126,
   "metadata": {},
   "outputs": [],
   "source": [
    "import netCDF4 as nc4\n",
    "import numpy as np\n",
    "import pandas as pd\n",
    "#import seaborn as sns\n",
    "import matplotlib.pyplot as plt\n",
    "import dateutil.parser\n",
    "import datetime\n",
    "import scipy\n",
    "import xarray as xr\n",
    "import cartopy.crs as ccrs\n",
    "from cartopy.util import add_cyclic_point"
   ]
  },
  {
   "cell_type": "code",
   "execution_count": 127,
   "metadata": {},
   "outputs": [],
   "source": [
    "import rasterio\n",
    "import rasterio.features\n",
    "import rasterio.warp\n",
    "from rasterio.plot import show\n",
    "from rasterio.warp import transform\n",
    "from affine import Affine\n",
    "from osgeo import gdal, osr\n",
    "from pyproj import Proj\n",
    "import glob"
   ]
  },
  {
   "cell_type": "markdown",
   "metadata": {},
   "source": [
    "## Locating regions of interest\n",
    "\n",
    "The Hansen et al data is split into tiles. for our two regions we only need a few tiles\n",
    "\n",
    "**Amazon:**  \n",
    "10N_080W  \n",
    "10N_070W  \n",
    "10N_060W  \n",
    "00N_080W  \n",
    "00N_070W  \n",
    "00N_060W  \n",
    "00N_050W  \n",
    "10S_080W  \n",
    "10S_070W  \n",
    "10S_060W  \n",
    "10S_050W  \n",
    "20S_070W  \n",
    "20S_060W  \n",
    "20S_050W  \n",
    "\n",
    "(maybe)  \n",
    "00N_040W   \n",
    "\n",
    "**Western North America:**  \n",
    "50N_130W  \n",
    "50N_120W  \n",
    "40N_130W  \n",
    "40N_120W  \n",
    "60N_140W  \n",
    "60N_130W  \n",
    "60N_120W  \n",
    "60N_110W  \n",
    "\n",
    "(maybe)  \n",
    "50N_110W  \n",
    "40N_110W  \n",
    "\n",
    "\n",
    "**The data is TOO big to deal with many tiles at once**  \n",
    "Therefore will have to come up with a way to coarsen the spatial scal, since that resoluton isn't necessary\n",
    "\n",
    "How to do this? The data shows just a yes/no for forest loss in a particular year. So we could mask to have loss in any year, then convert that to an area\n",
    "\n",
    "Will probably have to do this for each tile individually, maybe just the whole globe. Not sure how to merge the files but I'll deal with that later."
   ]
  },
  {
   "cell_type": "code",
   "execution_count": 128,
   "metadata": {},
   "outputs": [],
   "source": [
    "datapath='/home/disk/eos3/aswann/Shared/Data/forestmaps/hansen_landsat_forestloss/'\n",
    "\n",
    "loc = '10S_070W'\n",
    "\n",
    "filename = 'Hansen_GFC-2019-v1.7_lossyear_' +loc +'.tif'\n",
    "\n",
    "# one file:\n",
    "#filename = 'Hansen_GFC-2019-v1.7_lossyear_40N_080W.tif'\n",
    "\n",
    "inputFile=datapath +filename"
   ]
  },
  {
   "cell_type": "code",
   "execution_count": 143,
   "metadata": {},
   "outputs": [],
   "source": [
    "filepath = datapath +'Hansen_GFC-2019-v1.7_lossyear_*.tif'\n",
    "filenamelist=sorted(glob.glob(filepath)) # find the combination of all of these lists\n",
    "for i in range(len(filenamelist)):\n",
    "    filename=filenamelist[i]\n",
    "    print(filename) ds = xr.open_rasterio(filename)"
   ]
  },
  {
   "cell_type": "code",
   "execution_count": 144,
   "metadata": {},
   "outputs": [
    {
     "data": {
      "text/html": [
       "<div><svg style=\"position: absolute; width: 0; height: 0; overflow: hidden\">\n",
       "<defs>\n",
       "<symbol id=\"icon-database\" viewBox=\"0 0 32 32\">\n",
       "<path d=\"M16 0c-8.837 0-16 2.239-16 5v4c0 2.761 7.163 5 16 5s16-2.239 16-5v-4c0-2.761-7.163-5-16-5z\"></path>\n",
       "<path d=\"M16 17c-8.837 0-16-2.239-16-5v6c0 2.761 7.163 5 16 5s16-2.239 16-5v-6c0 2.761-7.163 5-16 5z\"></path>\n",
       "<path d=\"M16 26c-8.837 0-16-2.239-16-5v6c0 2.761 7.163 5 16 5s16-2.239 16-5v-6c0 2.761-7.163 5-16 5z\"></path>\n",
       "</symbol>\n",
       "<symbol id=\"icon-file-text2\" viewBox=\"0 0 32 32\">\n",
       "<path d=\"M28.681 7.159c-0.694-0.947-1.662-2.053-2.724-3.116s-2.169-2.030-3.116-2.724c-1.612-1.182-2.393-1.319-2.841-1.319h-15.5c-1.378 0-2.5 1.121-2.5 2.5v27c0 1.378 1.122 2.5 2.5 2.5h23c1.378 0 2.5-1.122 2.5-2.5v-19.5c0-0.448-0.137-1.23-1.319-2.841zM24.543 5.457c0.959 0.959 1.712 1.825 2.268 2.543h-4.811v-4.811c0.718 0.556 1.584 1.309 2.543 2.268zM28 29.5c0 0.271-0.229 0.5-0.5 0.5h-23c-0.271 0-0.5-0.229-0.5-0.5v-27c0-0.271 0.229-0.5 0.5-0.5 0 0 15.499-0 15.5 0v7c0 0.552 0.448 1 1 1h7v19.5z\"></path>\n",
       "<path d=\"M23 26h-14c-0.552 0-1-0.448-1-1s0.448-1 1-1h14c0.552 0 1 0.448 1 1s-0.448 1-1 1z\"></path>\n",
       "<path d=\"M23 22h-14c-0.552 0-1-0.448-1-1s0.448-1 1-1h14c0.552 0 1 0.448 1 1s-0.448 1-1 1z\"></path>\n",
       "<path d=\"M23 18h-14c-0.552 0-1-0.448-1-1s0.448-1 1-1h14c0.552 0 1 0.448 1 1s-0.448 1-1 1z\"></path>\n",
       "</symbol>\n",
       "</defs>\n",
       "</svg>\n",
       "<style>/* CSS stylesheet for displaying xarray objects in jupyterlab.\n",
       " *\n",
       " */\n",
       "\n",
       ":root {\n",
       "  --xr-font-color0: var(--jp-content-font-color0, rgba(0, 0, 0, 1));\n",
       "  --xr-font-color2: var(--jp-content-font-color2, rgba(0, 0, 0, 0.54));\n",
       "  --xr-font-color3: var(--jp-content-font-color3, rgba(0, 0, 0, 0.38));\n",
       "  --xr-border-color: var(--jp-border-color2, #e0e0e0);\n",
       "  --xr-disabled-color: var(--jp-layout-color3, #bdbdbd);\n",
       "  --xr-background-color: var(--jp-layout-color0, white);\n",
       "  --xr-background-color-row-even: var(--jp-layout-color1, white);\n",
       "  --xr-background-color-row-odd: var(--jp-layout-color2, #eeeeee);\n",
       "}\n",
       "\n",
       "html[theme=dark],\n",
       "body.vscode-dark {\n",
       "  --xr-font-color0: rgba(255, 255, 255, 1);\n",
       "  --xr-font-color2: rgba(255, 255, 255, 0.54);\n",
       "  --xr-font-color3: rgba(255, 255, 255, 0.38);\n",
       "  --xr-border-color: #1F1F1F;\n",
       "  --xr-disabled-color: #515151;\n",
       "  --xr-background-color: #111111;\n",
       "  --xr-background-color-row-even: #111111;\n",
       "  --xr-background-color-row-odd: #313131;\n",
       "}\n",
       "\n",
       ".xr-wrap {\n",
       "  display: block;\n",
       "  min-width: 300px;\n",
       "  max-width: 700px;\n",
       "}\n",
       "\n",
       ".xr-text-repr-fallback {\n",
       "  /* fallback to plain text repr when CSS is not injected (untrusted notebook) */\n",
       "  display: none;\n",
       "}\n",
       "\n",
       ".xr-header {\n",
       "  padding-top: 6px;\n",
       "  padding-bottom: 6px;\n",
       "  margin-bottom: 4px;\n",
       "  border-bottom: solid 1px var(--xr-border-color);\n",
       "}\n",
       "\n",
       ".xr-header > div,\n",
       ".xr-header > ul {\n",
       "  display: inline;\n",
       "  margin-top: 0;\n",
       "  margin-bottom: 0;\n",
       "}\n",
       "\n",
       ".xr-obj-type,\n",
       ".xr-array-name {\n",
       "  margin-left: 2px;\n",
       "  margin-right: 10px;\n",
       "}\n",
       "\n",
       ".xr-obj-type {\n",
       "  color: var(--xr-font-color2);\n",
       "}\n",
       "\n",
       ".xr-sections {\n",
       "  padding-left: 0 !important;\n",
       "  display: grid;\n",
       "  grid-template-columns: 150px auto auto 1fr 20px 20px;\n",
       "}\n",
       "\n",
       ".xr-section-item {\n",
       "  display: contents;\n",
       "}\n",
       "\n",
       ".xr-section-item input {\n",
       "  display: none;\n",
       "}\n",
       "\n",
       ".xr-section-item input + label {\n",
       "  color: var(--xr-disabled-color);\n",
       "}\n",
       "\n",
       ".xr-section-item input:enabled + label {\n",
       "  cursor: pointer;\n",
       "  color: var(--xr-font-color2);\n",
       "}\n",
       "\n",
       ".xr-section-item input:enabled + label:hover {\n",
       "  color: var(--xr-font-color0);\n",
       "}\n",
       "\n",
       ".xr-section-summary {\n",
       "  grid-column: 1;\n",
       "  color: var(--xr-font-color2);\n",
       "  font-weight: 500;\n",
       "}\n",
       "\n",
       ".xr-section-summary > span {\n",
       "  display: inline-block;\n",
       "  padding-left: 0.5em;\n",
       "}\n",
       "\n",
       ".xr-section-summary-in:disabled + label {\n",
       "  color: var(--xr-font-color2);\n",
       "}\n",
       "\n",
       ".xr-section-summary-in + label:before {\n",
       "  display: inline-block;\n",
       "  content: '►';\n",
       "  font-size: 11px;\n",
       "  width: 15px;\n",
       "  text-align: center;\n",
       "}\n",
       "\n",
       ".xr-section-summary-in:disabled + label:before {\n",
       "  color: var(--xr-disabled-color);\n",
       "}\n",
       "\n",
       ".xr-section-summary-in:checked + label:before {\n",
       "  content: '▼';\n",
       "}\n",
       "\n",
       ".xr-section-summary-in:checked + label > span {\n",
       "  display: none;\n",
       "}\n",
       "\n",
       ".xr-section-summary,\n",
       ".xr-section-inline-details {\n",
       "  padding-top: 4px;\n",
       "  padding-bottom: 4px;\n",
       "}\n",
       "\n",
       ".xr-section-inline-details {\n",
       "  grid-column: 2 / -1;\n",
       "}\n",
       "\n",
       ".xr-section-details {\n",
       "  display: none;\n",
       "  grid-column: 1 / -1;\n",
       "  margin-bottom: 5px;\n",
       "}\n",
       "\n",
       ".xr-section-summary-in:checked ~ .xr-section-details {\n",
       "  display: contents;\n",
       "}\n",
       "\n",
       ".xr-array-wrap {\n",
       "  grid-column: 1 / -1;\n",
       "  display: grid;\n",
       "  grid-template-columns: 20px auto;\n",
       "}\n",
       "\n",
       ".xr-array-wrap > label {\n",
       "  grid-column: 1;\n",
       "  vertical-align: top;\n",
       "}\n",
       "\n",
       ".xr-preview {\n",
       "  color: var(--xr-font-color3);\n",
       "}\n",
       "\n",
       ".xr-array-preview,\n",
       ".xr-array-data {\n",
       "  padding: 0 5px !important;\n",
       "  grid-column: 2;\n",
       "}\n",
       "\n",
       ".xr-array-data,\n",
       ".xr-array-in:checked ~ .xr-array-preview {\n",
       "  display: none;\n",
       "}\n",
       "\n",
       ".xr-array-in:checked ~ .xr-array-data,\n",
       ".xr-array-preview {\n",
       "  display: inline-block;\n",
       "}\n",
       "\n",
       ".xr-dim-list {\n",
       "  display: inline-block !important;\n",
       "  list-style: none;\n",
       "  padding: 0 !important;\n",
       "  margin: 0;\n",
       "}\n",
       "\n",
       ".xr-dim-list li {\n",
       "  display: inline-block;\n",
       "  padding: 0;\n",
       "  margin: 0;\n",
       "}\n",
       "\n",
       ".xr-dim-list:before {\n",
       "  content: '(';\n",
       "}\n",
       "\n",
       ".xr-dim-list:after {\n",
       "  content: ')';\n",
       "}\n",
       "\n",
       ".xr-dim-list li:not(:last-child):after {\n",
       "  content: ',';\n",
       "  padding-right: 5px;\n",
       "}\n",
       "\n",
       ".xr-has-index {\n",
       "  font-weight: bold;\n",
       "}\n",
       "\n",
       ".xr-var-list,\n",
       ".xr-var-item {\n",
       "  display: contents;\n",
       "}\n",
       "\n",
       ".xr-var-item > div,\n",
       ".xr-var-item label,\n",
       ".xr-var-item > .xr-var-name span {\n",
       "  background-color: var(--xr-background-color-row-even);\n",
       "  margin-bottom: 0;\n",
       "}\n",
       "\n",
       ".xr-var-item > .xr-var-name:hover span {\n",
       "  padding-right: 5px;\n",
       "}\n",
       "\n",
       ".xr-var-list > li:nth-child(odd) > div,\n",
       ".xr-var-list > li:nth-child(odd) > label,\n",
       ".xr-var-list > li:nth-child(odd) > .xr-var-name span {\n",
       "  background-color: var(--xr-background-color-row-odd);\n",
       "}\n",
       "\n",
       ".xr-var-name {\n",
       "  grid-column: 1;\n",
       "}\n",
       "\n",
       ".xr-var-dims {\n",
       "  grid-column: 2;\n",
       "}\n",
       "\n",
       ".xr-var-dtype {\n",
       "  grid-column: 3;\n",
       "  text-align: right;\n",
       "  color: var(--xr-font-color2);\n",
       "}\n",
       "\n",
       ".xr-var-preview {\n",
       "  grid-column: 4;\n",
       "}\n",
       "\n",
       ".xr-var-name,\n",
       ".xr-var-dims,\n",
       ".xr-var-dtype,\n",
       ".xr-preview,\n",
       ".xr-attrs dt {\n",
       "  white-space: nowrap;\n",
       "  overflow: hidden;\n",
       "  text-overflow: ellipsis;\n",
       "  padding-right: 10px;\n",
       "}\n",
       "\n",
       ".xr-var-name:hover,\n",
       ".xr-var-dims:hover,\n",
       ".xr-var-dtype:hover,\n",
       ".xr-attrs dt:hover {\n",
       "  overflow: visible;\n",
       "  width: auto;\n",
       "  z-index: 1;\n",
       "}\n",
       "\n",
       ".xr-var-attrs,\n",
       ".xr-var-data {\n",
       "  display: none;\n",
       "  background-color: var(--xr-background-color) !important;\n",
       "  padding-bottom: 5px !important;\n",
       "}\n",
       "\n",
       ".xr-var-attrs-in:checked ~ .xr-var-attrs,\n",
       ".xr-var-data-in:checked ~ .xr-var-data {\n",
       "  display: block;\n",
       "}\n",
       "\n",
       ".xr-var-data > table {\n",
       "  float: right;\n",
       "}\n",
       "\n",
       ".xr-var-name span,\n",
       ".xr-var-data,\n",
       ".xr-attrs {\n",
       "  padding-left: 25px !important;\n",
       "}\n",
       "\n",
       ".xr-attrs,\n",
       ".xr-var-attrs,\n",
       ".xr-var-data {\n",
       "  grid-column: 1 / -1;\n",
       "}\n",
       "\n",
       "dl.xr-attrs {\n",
       "  padding: 0;\n",
       "  margin: 0;\n",
       "  display: grid;\n",
       "  grid-template-columns: 125px auto;\n",
       "}\n",
       "\n",
       ".xr-attrs dt, dd {\n",
       "  padding: 0;\n",
       "  margin: 0;\n",
       "  float: left;\n",
       "  padding-right: 10px;\n",
       "  width: auto;\n",
       "}\n",
       "\n",
       ".xr-attrs dt {\n",
       "  font-weight: normal;\n",
       "  grid-column: 1;\n",
       "}\n",
       "\n",
       ".xr-attrs dt:hover span {\n",
       "  display: inline-block;\n",
       "  background: var(--xr-background-color);\n",
       "  padding-right: 10px;\n",
       "}\n",
       "\n",
       ".xr-attrs dd {\n",
       "  grid-column: 2;\n",
       "  white-space: pre-wrap;\n",
       "  word-break: break-all;\n",
       "}\n",
       "\n",
       ".xr-icon-database,\n",
       ".xr-icon-file-text2 {\n",
       "  display: inline-block;\n",
       "  vertical-align: middle;\n",
       "  width: 1em;\n",
       "  height: 1.5em !important;\n",
       "  stroke-width: 0;\n",
       "  stroke: currentColor;\n",
       "  fill: currentColor;\n",
       "}\n",
       "</style><pre class='xr-text-repr-fallback'>&lt;xarray.DataArray (band: 1, y: 40000, x: 40000)&gt;\n",
       "[1600000000 values with dtype=uint8]\n",
       "Coordinates:\n",
       "  * band     (band) int64 1\n",
       "  * y        (y) float64 80.0 80.0 80.0 80.0 80.0 ... 70.0 70.0 70.0 70.0 70.0\n",
       "  * x        (x) float64 -180.0 -180.0 -180.0 -180.0 ... -170.0 -170.0 -170.0\n",
       "Attributes:\n",
       "    transform:      (0.00025, 0.0, -180.0, 0.0, -0.00025, 80.0)\n",
       "    crs:            +init=epsg:4326\n",
       "    res:            (0.00025, 0.00025)\n",
       "    is_tiled:       0\n",
       "    nodatavals:     (nan,)\n",
       "    scales:         (1.0,)\n",
       "    offsets:        (0.0,)\n",
       "    AREA_OR_POINT:  Area</pre><div class='xr-wrap' hidden><div class='xr-header'><div class='xr-obj-type'>xarray.DataArray</div><div class='xr-array-name'></div><ul class='xr-dim-list'><li><span class='xr-has-index'>band</span>: 1</li><li><span class='xr-has-index'>y</span>: 40000</li><li><span class='xr-has-index'>x</span>: 40000</li></ul></div><ul class='xr-sections'><li class='xr-section-item'><div class='xr-array-wrap'><input id='section-a09abf2e-14bc-4595-b63e-79ba47f62179' class='xr-array-in' type='checkbox' checked><label for='section-a09abf2e-14bc-4595-b63e-79ba47f62179' title='Show/hide data repr'><svg class='icon xr-icon-database'><use xlink:href='#icon-database'></use></svg></label><div class='xr-array-preview xr-preview'><span>...</span></div><div class='xr-array-data'><pre>[1600000000 values with dtype=uint8]</pre></div></div></li><li class='xr-section-item'><input id='section-7044b04a-090d-4cc1-a416-1068966ec321' class='xr-section-summary-in' type='checkbox'  checked><label for='section-7044b04a-090d-4cc1-a416-1068966ec321' class='xr-section-summary' >Coordinates: <span>(3)</span></label><div class='xr-section-inline-details'></div><div class='xr-section-details'><ul class='xr-var-list'><li class='xr-var-item'><div class='xr-var-name'><span class='xr-has-index'>band</span></div><div class='xr-var-dims'>(band)</div><div class='xr-var-dtype'>int64</div><div class='xr-var-preview xr-preview'>1</div><input id='attrs-f7c6645c-5054-41ad-a6a0-be984942748b' class='xr-var-attrs-in' type='checkbox' disabled><label for='attrs-f7c6645c-5054-41ad-a6a0-be984942748b' title='Show/Hide attributes'><svg class='icon xr-icon-file-text2'><use xlink:href='#icon-file-text2'></use></svg></label><input id='data-e6255a9a-f5be-4a34-b4fc-537e5b9e2972' class='xr-var-data-in' type='checkbox'><label for='data-e6255a9a-f5be-4a34-b4fc-537e5b9e2972' title='Show/Hide data repr'><svg class='icon xr-icon-database'><use xlink:href='#icon-database'></use></svg></label><div class='xr-var-attrs'><dl class='xr-attrs'></dl></div><div class='xr-var-data'><pre>array([1])</pre></div></li><li class='xr-var-item'><div class='xr-var-name'><span class='xr-has-index'>y</span></div><div class='xr-var-dims'>(y)</div><div class='xr-var-dtype'>float64</div><div class='xr-var-preview xr-preview'>80.0 80.0 80.0 ... 70.0 70.0 70.0</div><input id='attrs-65e4ec00-f713-4e3c-b8ad-ba2d6ffd5ef4' class='xr-var-attrs-in' type='checkbox' disabled><label for='attrs-65e4ec00-f713-4e3c-b8ad-ba2d6ffd5ef4' title='Show/Hide attributes'><svg class='icon xr-icon-file-text2'><use xlink:href='#icon-file-text2'></use></svg></label><input id='data-104d00a7-da18-4a21-aaf4-40ac75ce7521' class='xr-var-data-in' type='checkbox'><label for='data-104d00a7-da18-4a21-aaf4-40ac75ce7521' title='Show/Hide data repr'><svg class='icon xr-icon-database'><use xlink:href='#icon-database'></use></svg></label><div class='xr-var-attrs'><dl class='xr-attrs'></dl></div><div class='xr-var-data'><pre>array([79.999875, 79.999625, 79.999375, ..., 70.000625, 70.000375, 70.000125])</pre></div></li><li class='xr-var-item'><div class='xr-var-name'><span class='xr-has-index'>x</span></div><div class='xr-var-dims'>(x)</div><div class='xr-var-dtype'>float64</div><div class='xr-var-preview xr-preview'>-180.0 -180.0 ... -170.0 -170.0</div><input id='attrs-548fa179-bf16-4def-8f02-7bac8a016b73' class='xr-var-attrs-in' type='checkbox' disabled><label for='attrs-548fa179-bf16-4def-8f02-7bac8a016b73' title='Show/Hide attributes'><svg class='icon xr-icon-file-text2'><use xlink:href='#icon-file-text2'></use></svg></label><input id='data-ac152b98-1e85-4571-a9ce-408b5f3f00da' class='xr-var-data-in' type='checkbox'><label for='data-ac152b98-1e85-4571-a9ce-408b5f3f00da' title='Show/Hide data repr'><svg class='icon xr-icon-database'><use xlink:href='#icon-database'></use></svg></label><div class='xr-var-attrs'><dl class='xr-attrs'></dl></div><div class='xr-var-data'><pre>array([-179.999875, -179.999625, -179.999375, ..., -170.000625, -170.000375,\n",
       "       -170.000125])</pre></div></li></ul></div></li><li class='xr-section-item'><input id='section-cccece19-b9e1-4a19-af31-8766ec03e6e3' class='xr-section-summary-in' type='checkbox'  checked><label for='section-cccece19-b9e1-4a19-af31-8766ec03e6e3' class='xr-section-summary' >Attributes: <span>(8)</span></label><div class='xr-section-inline-details'></div><div class='xr-section-details'><dl class='xr-attrs'><dt><span>transform :</span></dt><dd>(0.00025, 0.0, -180.0, 0.0, -0.00025, 80.0)</dd><dt><span>crs :</span></dt><dd>+init=epsg:4326</dd><dt><span>res :</span></dt><dd>(0.00025, 0.00025)</dd><dt><span>is_tiled :</span></dt><dd>0</dd><dt><span>nodatavals :</span></dt><dd>(nan,)</dd><dt><span>scales :</span></dt><dd>(1.0,)</dd><dt><span>offsets :</span></dt><dd>(0.0,)</dd><dt><span>AREA_OR_POINT :</span></dt><dd>Area</dd></dl></div></li></ul></div></div>"
      ],
      "text/plain": [
       "<xarray.DataArray (band: 1, y: 40000, x: 40000)>\n",
       "[1600000000 values with dtype=uint8]\n",
       "Coordinates:\n",
       "  * band     (band) int64 1\n",
       "  * y        (y) float64 80.0 80.0 80.0 80.0 80.0 ... 70.0 70.0 70.0 70.0 70.0\n",
       "  * x        (x) float64 -180.0 -180.0 -180.0 -180.0 ... -170.0 -170.0 -170.0\n",
       "Attributes:\n",
       "    transform:      (0.00025, 0.0, -180.0, 0.0, -0.00025, 80.0)\n",
       "    crs:            +init=epsg:4326\n",
       "    res:            (0.00025, 0.00025)\n",
       "    is_tiled:       0\n",
       "    nodatavals:     (nan,)\n",
       "    scales:         (1.0,)\n",
       "    offsets:        (0.0,)\n",
       "    AREA_OR_POINT:  Area"
      ]
     },
     "execution_count": 144,
     "metadata": {},
     "output_type": "execute_result"
    }
   ],
   "source": [
    "ds\n",
    "\n"
   ]
  },
  {
   "cell_type": "code",
   "execution_count": 67,
   "metadata": {},
   "outputs": [],
   "source": [
    "# Can loop through numbers from string\n",
    "lat_num = int(loc[0:2])#change to number (int? or float?)\n",
    "lat_n_s = loc[2:3]# if statement to make lat positive or negative\n",
    "if lat_n_s==\"S\":\n",
    "    lat_num = (-1)*lat_num\n",
    "\n",
    "lon_num = int(loc[4:7])\n",
    "lon_n_s = loc[7:8]\n",
    "if lon_n_s==\"W\":\n",
    "    lon_num = (-1)*lon_num\n",
    "\n",
    "lat = np.arange(lat_num-0.5, lat_num-10-0.5, -1)\n",
    "lon = np.arange(lon_num+0.5, lon_num+10+0.5)"
   ]
  },
  {
   "cell_type": "code",
   "execution_count": null,
   "metadata": {},
   "outputs": [],
   "source": []
  },
  {
   "cell_type": "code",
   "execution_count": 68,
   "metadata": {},
   "outputs": [],
   "source": [
    "## one file:\n",
    "#filename = 'Hansen_GFC-2019-v1.7_lossyear_40N_080W.tif'\n",
    "#inputFile=datapath +filename\n",
    "#inputFile"
   ]
  },
  {
   "cell_type": "code",
   "execution_count": 69,
   "metadata": {},
   "outputs": [],
   "source": [
    "# open dataset with xarray\n",
    "ds = xr.open_rasterio(inputFile)"
   ]
  },
  {
   "cell_type": "code",
   "execution_count": 70,
   "metadata": {},
   "outputs": [
    {
     "data": {
      "text/plain": [
       "(1, 40000, 40000)"
      ]
     },
     "execution_count": 70,
     "metadata": {},
     "output_type": "execute_result"
    }
   ],
   "source": [
    "ds.shape"
   ]
  },
  {
   "cell_type": "code",
   "execution_count": 71,
   "metadata": {},
   "outputs": [],
   "source": [
    "# array of map data with missing values converted to nan\n",
    "mapdata = ds.variable.data[0]\n",
    "\n",
    "# size of x and y dimensions\n",
    "nx, ny = ds.sizes['x'], ds.sizes['y']\n",
    "\n"
   ]
  },
  {
   "cell_type": "code",
   "execution_count": 72,
   "metadata": {},
   "outputs": [],
   "source": [
    "mapdata_size = mapdata.size\n",
    "mapdata_side = int(mapdata.shape[0])\n",
    "kernel = np.ones((int(mapdata_side/10), int(mapdata_side/10)))\n",
    "kernel_height, kernel_width = kernel.shape\n",
    "\n",
    "result_height = int(mapdata.shape[0]/kernel_height)\n",
    "result_width = result_height\n",
    "result = np.zeros((result_height, result_width, mapdata.max())) # lat, lon, year"
   ]
  },
  {
   "cell_type": "code",
   "execution_count": 73,
   "metadata": {},
   "outputs": [
    {
     "data": {
      "text/plain": [
       "(10, 10, 19)"
      ]
     },
     "execution_count": 73,
     "metadata": {},
     "output_type": "execute_result"
    }
   ],
   "source": [
    "result.shape"
   ]
  },
  {
   "cell_type": "code",
   "execution_count": 74,
   "metadata": {},
   "outputs": [
    {
     "data": {
      "text/plain": [
       "\"\\nfor i in range(mapdata.max()): # 0-18\\n    binary = ds['band'].where(ds==(i+1)).values # 1-19\\n    binary = np.squeeze(binary)\\n    display(binary.shape)\\n\""
      ]
     },
     "execution_count": 74,
     "metadata": {},
     "output_type": "execute_result"
    }
   ],
   "source": [
    "\"\"\"\n",
    "for i in range(mapdata.max()): # 0-18\n",
    "    binary = ds['band'].where(ds==(i+1)).values # 1-19\n",
    "    binary = np.squeeze(binary)\n",
    "    display(binary.shape)\n",
    "\"\"\""
   ]
  },
  {
   "cell_type": "code",
   "execution_count": 75,
   "metadata": {},
   "outputs": [
    {
     "data": {
      "text/plain": [
       "'\\ni = 0\\nfor j in range(result_height):\\n    for k in range(result_width):\\n        curr = binary[i*kernel_height:(i+1)*kernel_height-1, j*kernel_width:(j+1)*kernel_width-1]\\n        #display(curr)\\n        result[j, k, i] = np.nansum(curr)/curr.size\\n'"
      ]
     },
     "execution_count": 75,
     "metadata": {},
     "output_type": "execute_result"
    }
   ],
   "source": [
    "\"\"\"\n",
    "i = 0\n",
    "for j in range(result_height):\n",
    "    for k in range(result_width):\n",
    "        curr = binary[i*kernel_height:(i+1)*kernel_height-1, j*kernel_width:(j+1)*kernel_width-1]\n",
    "        #display(curr)\n",
    "        result[j, k, i] = np.nansum(curr)/curr.size\n",
    "\"\"\""
   ]
  },
  {
   "cell_type": "code",
   "execution_count": 76,
   "metadata": {},
   "outputs": [],
   "source": [
    "map_max = mapdata.max()"
   ]
  },
  {
   "cell_type": "code",
   "execution_count": 77,
   "metadata": {},
   "outputs": [],
   "source": [
    "for year in range(mapdata.max()): # 0-18\n",
    "    binary = ds['band'].where(ds==(year+1)).values # 1-19\n",
    "    binary = np.squeeze(binary)\n",
    "    for lat in range(result_height):\n",
    "        for lon in range(result_width):\n",
    "            curr = binary[lat*kernel_height:(lat+1)*kernel_height-1, lon*kernel_width:(lon+1)*kernel_width-1]\n",
    "            result[lat, lon, year] = np.nansum(curr)/curr.size\n",
    "        "
   ]
  },
  {
   "cell_type": "code",
   "execution_count": 78,
   "metadata": {},
   "outputs": [
    {
     "data": {
      "text/plain": [
       "\"\\nNot in use anymore because big one is complete\\nfor i in range(9): # 0-8\\n    binary = ds['band'].where(ds==(i+1)).values # 1-9\\n    binary = np.squeeze(binary)\\n    for j in range(result_height):\\n        for k in range(result_width):\\n            curr = binary[j*kernel_height:(j+1)*kernel_height-1, k*kernel_width:(k+1)*kernel_width-1]\\n            result[j, k, i] = np.nansum(curr)/curr.size\\n\""
      ]
     },
     "execution_count": 78,
     "metadata": {},
     "output_type": "execute_result"
    }
   ],
   "source": [
    "\"\"\"\n",
    "Not in use anymore because big one is complete\n",
    "for i in range(9): # 0-8\n",
    "    binary = ds['band'].where(ds==(i+1)).values # 1-9\n",
    "    binary = np.squeeze(binary)\n",
    "    for j in range(result_height):\n",
    "        for k in range(result_width):\n",
    "            curr = binary[j*kernel_height:(j+1)*kernel_height-1, k*kernel_width:(k+1)*kernel_width-1]\n",
    "            result[j, k, i] = np.nansum(curr)/curr.size\n",
    "\"\"\""
   ]
  },
  {
   "cell_type": "code",
   "execution_count": 79,
   "metadata": {},
   "outputs": [
    {
     "data": {
      "text/plain": [
       "\"\\nfor i in range(9): # 0-8\\n    binary = ds['band'].where(ds==(i+10)).values # 10-18\\n    binary = np.squeeze(binary)\\n    for j in range(result_height):\\n        for k in range(result_width):\\n            curr = binary[j*kernel_height:(j+1)*kernel_height-1, k*kernel_width:(k+1)*kernel_width-1]\\n            result[j, k, i+9] = np.nansum(curr)/curr.size\\n\""
      ]
     },
     "execution_count": 79,
     "metadata": {},
     "output_type": "execute_result"
    }
   ],
   "source": [
    "\"\"\"\n",
    "for i in range(9): # 0-8\n",
    "    binary = ds['band'].where(ds==(i+10)).values # 10-18\n",
    "    binary = np.squeeze(binary)\n",
    "    for j in range(result_height):\n",
    "        for k in range(result_width):\n",
    "            curr = binary[j*kernel_height:(j+1)*kernel_height-1, k*kernel_width:(k+1)*kernel_width-1]\n",
    "            result[j, k, i+9] = np.nansum(curr)/curr.size\n",
    "\"\"\""
   ]
  },
  {
   "cell_type": "code",
   "execution_count": 80,
   "metadata": {},
   "outputs": [
    {
     "data": {
      "text/plain": [
       "\"\\nfor i in range(1): # 0\\n    binary = ds['band'].where(ds==(i+19)).values # 19\\n    binary = np.squeeze(binary)\\n    for j in range(result_height):\\n        for k in range(result_width):\\n            curr = binary[j*kernel_height:(j+1)*kernel_height-1, k*kernel_width:(k+1)*kernel_width-1]\\n            result[j, k, i+18] = np.nansum(curr)/curr.size\\n\""
      ]
     },
     "execution_count": 80,
     "metadata": {},
     "output_type": "execute_result"
    }
   ],
   "source": [
    "\"\"\"\n",
    "for i in range(1): # 0\n",
    "    binary = ds['band'].where(ds==(i+19)).values # 19\n",
    "    binary = np.squeeze(binary)\n",
    "    for j in range(result_height):\n",
    "        for k in range(result_width):\n",
    "            curr = binary[j*kernel_height:(j+1)*kernel_height-1, k*kernel_width:(k+1)*kernel_width-1]\n",
    "            result[j, k, i+18] = np.nansum(curr)/curr.size\n",
    "\"\"\""
   ]
  },
  {
   "cell_type": "code",
   "execution_count": 81,
   "metadata": {},
   "outputs": [],
   "source": [
    "years = np.arange(2000, 2019)"
   ]
  },
  {
   "cell_type": "code",
   "execution_count": 82,
   "metadata": {},
   "outputs": [
    {
     "data": {
      "text/plain": [
       "(10, 10, 19)"
      ]
     },
     "execution_count": 82,
     "metadata": {},
     "output_type": "execute_result"
    }
   ],
   "source": [
    "result.shape"
   ]
  },
  {
   "cell_type": "code",
   "execution_count": 90,
   "metadata": {},
   "outputs": [],
   "source": [
    "# Try once result it complete\n",
    "\n",
    "#lon = np.arange(1,11) # Make specific to file in a repeatable way\n",
    "\n",
    "#lat = np.arange(1,11)\n",
    "\n",
    "lat = np.arange(lat_num-0.5, lat_num-10-0.5, -1)\n",
    "lon = np.arange(lon_num+0.5, lon_num+10+0.5)\n",
    "\n",
    "ds_result = xr.Dataset(\n",
    "    {\n",
    "        \"Percent\": ([\"lon\", \"lat\", \"year\"], result), #make the same order as result\n",
    "    },\n",
    "    coords={\n",
    "        \"lon\": ([\"lon\"], lon),\n",
    "        \"lat\": ([\"lat\"], lat),\n",
    "        \"year\": years #2000-2019 just in numbers\n",
    "    },\n",
    ")\n"
   ]
  },
  {
   "cell_type": "code",
   "execution_count": 91,
   "metadata": {},
   "outputs": [
    {
     "data": {
      "text/plain": [
       "<matplotlib.colorbar.Colorbar at 0x7fc95bb18590>"
      ]
     },
     "execution_count": 91,
     "metadata": {},
     "output_type": "execute_result"
    },
    {
     "data": {
      "image/png": "[encoded data removed]",
      "text/plain": [
       "<Figure size 432x288 with 2 Axes>"
      ]
     },
     "metadata": {
      "needs_background": "light"
     },
     "output_type": "display_data"
    }
   ],
   "source": [
    "plt.imshow(result[:,:,18])\n",
    "plt.colorbar()"
   ]
  },
  {
   "cell_type": "code",
   "execution_count": 109,
   "metadata": {},
   "outputs": [
    {
     "data": {
      "text/plain": [
       "<matplotlib.collections.PathCollection at 0x7fc95b8b8c10>"
      ]
     },
     "execution_count": 109,
     "metadata": {},
     "output_type": "execute_result"
    },
    {
     "data": {
      "image/png": "[encoded data removed]",
      "text/plain": [
       "<Figure size 432x288 with 1 Axes>"
      ]
     },
     "metadata": {
      "needs_background": "light"
     },
     "output_type": "display_data"
    }
   ],
   "source": [
    "ds_result.plot.scatter(\"Percent\", \"year\")\n"
   ]
  },
  {
   "cell_type": "code",
   "execution_count": 214,
   "metadata": {},
   "outputs": [
    {
     "data": {
      "text/plain": [
       "'\\nlon = [[-99.83, -99.32], [-99.79, -99.23]]\\n\\nlat = [[42.25, 42.21], [42.63, 42.59]]\\n\\nds_result = xr.Dataset(\\n    {\\n        \"Percent\": ([\"x\", \"y\", \"time\"], result),\\n    },\\n    coords={\\n        \"lon\": ([\"x\", \"y\"], lon),\\n        \"lat\": ([\"x\", \"y\"], lat),\\n        \"time\": pd.date_range(\"2014-09-06\", periods=3),\\n        \"reference_time\": pd.Timestamp(\"2014-09-05\"),\\n    },\\n)\\n'"
      ]
     },
     "execution_count": 214,
     "metadata": {},
     "output_type": "execute_result"
    }
   ],
   "source": [
    "\"\"\"\n",
    "lon = [[-99.83, -99.32], [-99.79, -99.23]]\n",
    "\n",
    "lat = [[42.25, 42.21], [42.63, 42.59]]\n",
    "\n",
    "ds_result = xr.Dataset(\n",
    "    {\n",
    "        \"Percent\": ([\"x\", \"y\", \"time\"], result),\n",
    "    },\n",
    "    coords={\n",
    "        \"lon\": ([\"x\", \"y\"], lon),\n",
    "        \"lat\": ([\"x\", \"y\"], lat),\n",
    "        \"time\": pd.date_range(\"2014-09-06\", periods=3),\n",
    "        \"reference_time\": pd.Timestamp(\"2014-09-05\"),\n",
    "    },\n",
    ")\n",
    "\"\"\""
   ]
  },
  {
   "cell_type": "code",
   "execution_count": null,
   "metadata": {},
   "outputs": [],
   "source": [
    "result\n",
    "# del binary"
   ]
  },
  {
   "cell_type": "code",
   "execution_count": null,
   "metadata": {},
   "outputs": [],
   "source": [
    "mapdata"
   ]
  },
  {
   "cell_type": "code",
   "execution_count": null,
   "metadata": {},
   "outputs": [],
   "source": [
    "im=plt.imshow(mapdata)\n",
    "cbar = plt.colorbar(im,orientation='horizontal',extend='both')"
   ]
  },
  {
   "cell_type": "code",
   "execution_count": null,
   "metadata": {},
   "outputs": [],
   "source": [
    "##mapdata2=np.where(mapdata>0,1,0)\n",
    "ds_to_plot = ds['band'].where(ds>0) #\n",
    "mapdata2 = ds_to_plot.variable.data[0]\n",
    "\n",
    "im=plt.imshow(mapdata2)\n",
    "cbar = plt.colorbar(im,orientation='horizontal',extend='both')"
   ]
  },
  {
   "cell_type": "code",
   "execution_count": null,
   "metadata": {},
   "outputs": [],
   "source": [
    "mapdata.shape\n"
   ]
  },
  {
   "cell_type": "code",
   "execution_count": null,
   "metadata": {},
   "outputs": [],
   "source": [
    "dx = nx/10\n",
    "first_cell_x = 0\n",
    "first_cell_y = 0\n",
    "# [first_cell_x:first_cell_x+dx, first_cell_y:first_cell_y+dx]\n",
    "#subset = mapdata[first_cell_x:first_cell_x+dx, first_cell_y:first_cell_y+dx]\n",
    "#subset.shape\n",
    "\n",
    "ds_subset = ds.isel(space=0)"
   ]
  },
  {
   "cell_type": "code",
   "execution_count": null,
   "metadata": {},
   "outputs": [],
   "source": [
    "## This fails! runs out of memory...\n",
    "\n",
    "# create a figure\n",
    "fig = plt.figure(figsize=(8,10))\n",
    "\n",
    "# create an axis with a projection\n",
    "ax=plt.axes(projection=ccrs.Robinson())\n",
    "#ax=fig.add_subplot(111,projection=ccrs.AlbersEqualArea())\n",
    "\n",
    "#crs=ccrs.crs.epsg(4326)\n",
    "               \n",
    "# add coastline\n",
    "ax.coastlines()\n",
    "\n",
    "# plot image\n",
    "#im = ax.imshow(mapdata, transform=ds.crs, cmap='YlOrBr',vmin=0,vmax=100)\n",
    "im = plt.pcolormesh(ds['x'], ds['y'], mapdata, transform=ccrs.PlateCarree())\n",
    " \n",
    "ax.set_global()\n",
    "\n",
    "# add a colorbar\n",
    "cbar = plt.colorbar(im,orientation='horizontal',extend='both')\n",
    "\n",
    "# show the image\n",
    "plt.show()"
   ]
  },
  {
   "cell_type": "code",
   "execution_count": null,
   "metadata": {},
   "outputs": [],
   "source": []
  }
 ],
 "metadata": {
  "kernelspec": {
   "display_name": "Python 3",
   "language": "python",
   "name": "python3"
  },
  "language_info": {
   "codemirror_mode": {
    "name": "ipython",
    "version": 3
   },
   "file_extension": ".py",
   "mimetype": "text/x-python",
   "name": "python",
   "nbconvert_exporter": "python",
   "pygments_lexer": "ipython3",
   "version": "3.7.8"
  }
 },
 "nbformat": 4,
 "nbformat_minor": 4
}
