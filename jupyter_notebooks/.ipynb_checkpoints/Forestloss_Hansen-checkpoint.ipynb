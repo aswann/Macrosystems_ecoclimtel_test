{
 "cells": [
  {
   "cell_type": "markdown",
   "metadata": {},
   "source": [
    "# Hansen et al. Forest loss data\n",
    "\n",
    "The data is in geotiff format, split into pieces\n",
    "\n",
    "I downloaded the \"lossyear\" data version 1.7  \n",
    "https://earthenginepartners.appspot.com/science-2013-global-forest/download_v1.7.html\n",
    "\n",
    "Which is described as:  \n",
    "**Year of gross forest cover loss event (lossyear)**  \n",
    "Forest loss during the period 2000–2019, defined as a stand-replacement disturbance, or a change from a forest to non-forest state. Encoded as either 0 (no loss) or else a value in the range 1–17, representing loss detected primarily in the year 2001–2019, respectively.\n",
    "\n",
    "Use the following credit when these data are displayed:  \n",
    "Source: Hansen/UMD/Google/USGS/NASA  \n",
    "\n",
    "Use the following credit when these data are cited:  \n",
    "\n",
    "Hansen, M. C., P. V. Potapov, R. Moore, M. Hancher, S. A. Turubanova, A. Tyukavina, D. Thau, S. V. Stehman, S. J. Goetz, T. R. Loveland, A. Kommareddy, A. Egorov, L. Chini, C. O. Justice, and J. R. G. Townshend. 2013. “High-Resolution Global Maps of 21st-Century Forest Cover Change.” Science 342 (15 November): 850–53. Data available on-line from: http://earthenginepartners.appspot.com/science-2013-global-forest."
   ]
  },
  {
   "cell_type": "code",
   "execution_count": null,
   "metadata": {},
   "outputs": [],
   "source": [
    "import netCDF4 as nc4\n",
    "import numpy as np\n",
    "import pandas as pd\n",
    "#import seaborn as sns\n",
    "import matplotlib.pyplot as plt\n",
    "import dateutil.parser\n",
    "import datetime\n",
    "import scipy\n",
    "import xarray as xr\n",
    "import cartopy.crs as ccrs\n",
    "from cartopy.util import add_cyclic_point"
   ]
  },
  {
   "cell_type": "code",
   "execution_count": 2,
   "metadata": {},
   "outputs": [],
   "source": [
    "## import rasterio\n",
    "import rasterio.features\n",
    "import rasterio.warp\n",
    "from rasterio.plot import show\n",
    "from rasterio.warp import transform\n",
    "from affine import Affine\n",
    "from osgeo import gdal, osr\n",
    "from pyproj import Proj\n",
    "import glob"
   ]
  },
  {
   "cell_type": "code",
   "execution_count": 3,
   "metadata": {},
   "outputs": [],
   "source": [
    "# Memory clearing package \n",
    "import gc"
   ]
  },
  {
   "cell_type": "markdown",
   "metadata": {},
   "source": [
    "## Locating regions of interest\n",
    "\n",
    "The Hansen et al data is split into tiles. for our two regions we only need a few tiles\n",
    "\n",
    "**Amazon:**  \n",
    "10N_080W  \n",
    "10N_070W  \n",
    "10N_060W  \n",
    "00N_080W  \n",
    "00N_070W  \n",
    "00N_060W  \n",
    "00N_050W  \n",
    "10S_080W  \n",
    "10S_070W  \n",
    "10S_060W  \n",
    "10S_050W  \n",
    "20S_070W  \n",
    "20S_060W  \n",
    "20S_050W  \n",
    "\n",
    "(maybe)  \n",
    "00N_040W   \n",
    "\n",
    "**Western North America:**  \n",
    "50N_130W  \n",
    "50N_120W  \n",
    "40N_130W  \n",
    "40N_120W  \n",
    "60N_140W  \n",
    "60N_130W  \n",
    "60N_120W  \n",
    "60N_110W  \n",
    "\n",
    "(maybe)  \n",
    "50N_110W  \n",
    "40N_110W  \n",
    "\n",
    "\n",
    "**The data is TOO big to deal with many tiles at once**  \n",
    "Therefore will have to come up with a way to coarsen the spatial scal, since that resoluton isn't necessary\n",
    "\n",
    "How to do this? The data shows just a yes/no for forest loss in a particular year. So we could mask to have loss in any year, then convert that to an area\n",
    "\n",
    "Will probably have to do this for each tile individually, maybe just the whole globe. Not sure how to merge the files but I'll deal with that later."
   ]
  },
  {
   "cell_type": "markdown",
   "metadata": {},
   "source": []
  },
  {
   "cell_type": "code",
   "execution_count": 4,
   "metadata": {},
   "outputs": [
    {
     "data": {
      "text/plain": [
       "\"\\nloc = '10S_070W'\\nfilename = 'Hansen_GFC-2019-v1.7_lossyear_' +loc +'.tif'\\n# one file:\\n#filename = 'Hansen_GFC-2019-v1.7_lossyear_40N_080W.tif'\\n\\ninputFile=datapath +filename\\n\""
      ]
     },
     "execution_count": 4,
     "metadata": {},
     "output_type": "execute_result"
    }
   ],
   "source": [
    "\"\"\"\n",
    "loc = '10S_070W'\n",
    "filename = 'Hansen_GFC-2019-v1.7_lossyear_' +loc +'.tif'\n",
    "# one file:\n",
    "#filename = 'Hansen_GFC-2019-v1.7_lossyear_40N_080W.tif'\n",
    "\n",
    "inputFile=datapath +filename\n",
    "\"\"\""
   ]
  },
  {
   "cell_type": "code",
   "execution_count": 22,
   "metadata": {},
   "outputs": [],
   "source": [
    "#file_list = ['10N_080W', '10N_070W', '10N_060W', '00N_080W']\n",
    "\n",
    "file_list = ['10N_080W', '10N_070W', '10N_060W', '00N_080W', '00N_070W', '00N_060W', '00N_050W',\n",
    "              '10S_080W', '10S_070W', '10S_060W', '10S_050W', '20S_070W', '20S_060W', '20S_050W',\n",
    "              '00N_040W', '50N_130W', '50N_120W', '40N_130W', '40N_120W', '60N_140W', '60N_130W',\n",
    "              '60N_120W', '60N_110W', '50N_110W', '40N_110W']\n",
    "\n",
    "file_list_len = len(file_list)"
   ]
  },
  {
   "cell_type": "code",
   "execution_count": 24,
   "metadata": {},
   "outputs": [
    {
     "name": "stdout",
     "output_type": "stream",
     "text": [
      "Working on file #1: 10N_080W\n",
      "Year: 0, "
     ]
    },
    {
     "ename": "KeyboardInterrupt",
     "evalue": "",
     "output_type": "error",
     "traceback": [
      "\u001b[0;31m---------------------------------------------------------------------------\u001b[0m",
      "\u001b[0;31mKeyboardInterrupt\u001b[0m                         Traceback (most recent call last)",
      "\u001b[0;32m<ipython-input-24-c296340ede3e>\u001b[0m in \u001b[0;36m<module>\u001b[0;34m\u001b[0m\n\u001b[1;32m     28\u001b[0m     \u001b[0;32mfor\u001b[0m \u001b[0myear\u001b[0m \u001b[0;32min\u001b[0m \u001b[0mrange\u001b[0m\u001b[0;34m(\u001b[0m\u001b[0mmapdata\u001b[0m\u001b[0;34m.\u001b[0m\u001b[0mmax\u001b[0m\u001b[0;34m(\u001b[0m\u001b[0;34m)\u001b[0m\u001b[0;34m)\u001b[0m\u001b[0;34m:\u001b[0m \u001b[0;31m# 0-18\u001b[0m\u001b[0;34m\u001b[0m\u001b[0;34m\u001b[0m\u001b[0m\n\u001b[1;32m     29\u001b[0m         \u001b[0mprint\u001b[0m\u001b[0;34m(\u001b[0m\u001b[0mstr\u001b[0m\u001b[0;34m(\u001b[0m\u001b[0myear\u001b[0m\u001b[0;34m)\u001b[0m\u001b[0;34m,\u001b[0m \u001b[0mend\u001b[0m \u001b[0;34m=\u001b[0m\u001b[0;34m\", \"\u001b[0m\u001b[0;34m)\u001b[0m\u001b[0;34m\u001b[0m\u001b[0;34m\u001b[0m\u001b[0m\n\u001b[0;32m---> 30\u001b[0;31m         \u001b[0mbinary\u001b[0m \u001b[0;34m=\u001b[0m \u001b[0mds\u001b[0m\u001b[0;34m[\u001b[0m\u001b[0;34m'band'\u001b[0m\u001b[0;34m]\u001b[0m\u001b[0;34m.\u001b[0m\u001b[0mwhere\u001b[0m\u001b[0;34m(\u001b[0m\u001b[0mds\u001b[0m\u001b[0;34m==\u001b[0m\u001b[0;34m(\u001b[0m\u001b[0myear\u001b[0m\u001b[0;34m+\u001b[0m\u001b[0;36m1\u001b[0m\u001b[0;34m)\u001b[0m\u001b[0;34m)\u001b[0m\u001b[0;34m.\u001b[0m\u001b[0mvalues\u001b[0m \u001b[0;31m# 1-19\u001b[0m\u001b[0;34m\u001b[0m\u001b[0;34m\u001b[0m\u001b[0m\n\u001b[0m\u001b[1;32m     31\u001b[0m         \u001b[0mbinary\u001b[0m \u001b[0;34m=\u001b[0m \u001b[0mnp\u001b[0m\u001b[0;34m.\u001b[0m\u001b[0msqueeze\u001b[0m\u001b[0;34m(\u001b[0m\u001b[0mbinary\u001b[0m\u001b[0;34m)\u001b[0m \u001b[0;31m# Removes extra dimension\u001b[0m\u001b[0;34m\u001b[0m\u001b[0;34m\u001b[0m\u001b[0m\n\u001b[1;32m     32\u001b[0m         \u001b[0;32mfor\u001b[0m \u001b[0mlat\u001b[0m \u001b[0;32min\u001b[0m \u001b[0mrange\u001b[0m\u001b[0;34m(\u001b[0m\u001b[0mresult_height\u001b[0m\u001b[0;34m)\u001b[0m\u001b[0;34m:\u001b[0m \u001b[0;31m# Loops over all lat\u001b[0m\u001b[0;34m\u001b[0m\u001b[0;34m\u001b[0m\u001b[0m\n",
      "\u001b[0;32m~/anaconda3/envs/pangeo/lib/python3.7/site-packages/xarray/core/common.py\u001b[0m in \u001b[0;36mwhere\u001b[0;34m(self, cond, other, drop)\u001b[0m\n\u001b[1;32m   1246\u001b[0m             \u001b[0mcond\u001b[0m \u001b[0;34m=\u001b[0m \u001b[0mcond\u001b[0m\u001b[0;34m.\u001b[0m\u001b[0misel\u001b[0m\u001b[0;34m(\u001b[0m\u001b[0;34m**\u001b[0m\u001b[0mindexers\u001b[0m\u001b[0;34m)\u001b[0m\u001b[0;34m\u001b[0m\u001b[0;34m\u001b[0m\u001b[0m\n\u001b[1;32m   1247\u001b[0m \u001b[0;34m\u001b[0m\u001b[0m\n\u001b[0;32m-> 1248\u001b[0;31m         \u001b[0;32mreturn\u001b[0m \u001b[0mops\u001b[0m\u001b[0;34m.\u001b[0m\u001b[0mwhere_method\u001b[0m\u001b[0;34m(\u001b[0m\u001b[0mself\u001b[0m\u001b[0;34m,\u001b[0m \u001b[0mcond\u001b[0m\u001b[0;34m,\u001b[0m \u001b[0mother\u001b[0m\u001b[0;34m)\u001b[0m\u001b[0;34m\u001b[0m\u001b[0;34m\u001b[0m\u001b[0m\n\u001b[0m\u001b[1;32m   1249\u001b[0m \u001b[0;34m\u001b[0m\u001b[0m\n\u001b[1;32m   1250\u001b[0m     \u001b[0;32mdef\u001b[0m \u001b[0mclose\u001b[0m\u001b[0;34m(\u001b[0m\u001b[0mself\u001b[0m\u001b[0;34m:\u001b[0m \u001b[0mAny\u001b[0m\u001b[0;34m)\u001b[0m \u001b[0;34m->\u001b[0m \u001b[0;32mNone\u001b[0m\u001b[0;34m:\u001b[0m\u001b[0;34m\u001b[0m\u001b[0;34m\u001b[0m\u001b[0m\n",
      "\u001b[0;32m~/anaconda3/envs/pangeo/lib/python3.7/site-packages/xarray/core/ops.py\u001b[0m in \u001b[0;36mwhere_method\u001b[0;34m(self, cond, other)\u001b[0m\n\u001b[1;32m    197\u001b[0m         \u001b[0mdataset_join\u001b[0m\u001b[0;34m=\u001b[0m\u001b[0mjoin\u001b[0m\u001b[0;34m,\u001b[0m\u001b[0;34m\u001b[0m\u001b[0;34m\u001b[0m\u001b[0m\n\u001b[1;32m    198\u001b[0m         \u001b[0mdask\u001b[0m\u001b[0;34m=\u001b[0m\u001b[0;34m\"allowed\"\u001b[0m\u001b[0;34m,\u001b[0m\u001b[0;34m\u001b[0m\u001b[0;34m\u001b[0m\u001b[0m\n\u001b[0;32m--> 199\u001b[0;31m         \u001b[0mkeep_attrs\u001b[0m\u001b[0;34m=\u001b[0m\u001b[0;32mTrue\u001b[0m\u001b[0;34m,\u001b[0m\u001b[0;34m\u001b[0m\u001b[0;34m\u001b[0m\u001b[0m\n\u001b[0m\u001b[1;32m    200\u001b[0m     )\n\u001b[1;32m    201\u001b[0m \u001b[0;34m\u001b[0m\u001b[0m\n",
      "\u001b[0;32m~/anaconda3/envs/pangeo/lib/python3.7/site-packages/xarray/core/computation.py\u001b[0m in \u001b[0;36mapply_ufunc\u001b[0;34m(func, input_core_dims, output_core_dims, exclude_dims, vectorize, join, dataset_join, dataset_fill_value, keep_attrs, kwargs, dask, output_dtypes, output_sizes, meta, *args)\u001b[0m\n\u001b[1;32m   1062\u001b[0m             \u001b[0mjoin\u001b[0m\u001b[0;34m=\u001b[0m\u001b[0mjoin\u001b[0m\u001b[0;34m,\u001b[0m\u001b[0;34m\u001b[0m\u001b[0;34m\u001b[0m\u001b[0m\n\u001b[1;32m   1063\u001b[0m             \u001b[0mexclude_dims\u001b[0m\u001b[0;34m=\u001b[0m\u001b[0mexclude_dims\u001b[0m\u001b[0;34m,\u001b[0m\u001b[0;34m\u001b[0m\u001b[0;34m\u001b[0m\u001b[0m\n\u001b[0;32m-> 1064\u001b[0;31m             \u001b[0mkeep_attrs\u001b[0m\u001b[0;34m=\u001b[0m\u001b[0mkeep_attrs\u001b[0m\u001b[0;34m,\u001b[0m\u001b[0;34m\u001b[0m\u001b[0;34m\u001b[0m\u001b[0m\n\u001b[0m\u001b[1;32m   1065\u001b[0m         )\n\u001b[1;32m   1066\u001b[0m     \u001b[0;32melif\u001b[0m \u001b[0many\u001b[0m\u001b[0;34m(\u001b[0m\u001b[0misinstance\u001b[0m\u001b[0;34m(\u001b[0m\u001b[0ma\u001b[0m\u001b[0;34m,\u001b[0m \u001b[0mVariable\u001b[0m\u001b[0;34m)\u001b[0m \u001b[0;32mfor\u001b[0m \u001b[0ma\u001b[0m \u001b[0;32min\u001b[0m \u001b[0margs\u001b[0m\u001b[0;34m)\u001b[0m\u001b[0;34m:\u001b[0m\u001b[0;34m\u001b[0m\u001b[0;34m\u001b[0m\u001b[0m\n",
      "\u001b[0;32m~/anaconda3/envs/pangeo/lib/python3.7/site-packages/xarray/core/computation.py\u001b[0m in \u001b[0;36mapply_dataarray_vfunc\u001b[0;34m(func, signature, join, exclude_dims, keep_attrs, *args)\u001b[0m\n\u001b[1;32m    231\u001b[0m \u001b[0;34m\u001b[0m\u001b[0m\n\u001b[1;32m    232\u001b[0m     \u001b[0mdata_vars\u001b[0m \u001b[0;34m=\u001b[0m \u001b[0;34m[\u001b[0m\u001b[0mgetattr\u001b[0m\u001b[0;34m(\u001b[0m\u001b[0ma\u001b[0m\u001b[0;34m,\u001b[0m \u001b[0;34m\"variable\"\u001b[0m\u001b[0;34m,\u001b[0m \u001b[0ma\u001b[0m\u001b[0;34m)\u001b[0m \u001b[0;32mfor\u001b[0m \u001b[0ma\u001b[0m \u001b[0;32min\u001b[0m \u001b[0margs\u001b[0m\u001b[0;34m]\u001b[0m\u001b[0;34m\u001b[0m\u001b[0;34m\u001b[0m\u001b[0m\n\u001b[0;32m--> 233\u001b[0;31m     \u001b[0mresult_var\u001b[0m \u001b[0;34m=\u001b[0m \u001b[0mfunc\u001b[0m\u001b[0;34m(\u001b[0m\u001b[0;34m*\u001b[0m\u001b[0mdata_vars\u001b[0m\u001b[0;34m)\u001b[0m\u001b[0;34m\u001b[0m\u001b[0;34m\u001b[0m\u001b[0m\n\u001b[0m\u001b[1;32m    234\u001b[0m \u001b[0;34m\u001b[0m\u001b[0m\n\u001b[1;32m    235\u001b[0m     \u001b[0;32mif\u001b[0m \u001b[0msignature\u001b[0m\u001b[0;34m.\u001b[0m\u001b[0mnum_outputs\u001b[0m \u001b[0;34m>\u001b[0m \u001b[0;36m1\u001b[0m\u001b[0;34m:\u001b[0m\u001b[0;34m\u001b[0m\u001b[0;34m\u001b[0m\u001b[0m\n",
      "\u001b[0;32m~/anaconda3/envs/pangeo/lib/python3.7/site-packages/xarray/core/computation.py\u001b[0m in \u001b[0;36mapply_variable_ufunc\u001b[0;34m(func, signature, exclude_dims, dask, output_dtypes, output_sizes, keep_attrs, meta, *args)\u001b[0m\n\u001b[1;32m    602\u001b[0m                 \u001b[0;34m\"apply_ufunc: {}\"\u001b[0m\u001b[0;34m.\u001b[0m\u001b[0mformat\u001b[0m\u001b[0;34m(\u001b[0m\u001b[0mdask\u001b[0m\u001b[0;34m)\u001b[0m\u001b[0;34m\u001b[0m\u001b[0;34m\u001b[0m\u001b[0m\n\u001b[1;32m    603\u001b[0m             )\n\u001b[0;32m--> 604\u001b[0;31m     \u001b[0mresult_data\u001b[0m \u001b[0;34m=\u001b[0m \u001b[0mfunc\u001b[0m\u001b[0;34m(\u001b[0m\u001b[0;34m*\u001b[0m\u001b[0minput_data\u001b[0m\u001b[0;34m)\u001b[0m\u001b[0;34m\u001b[0m\u001b[0;34m\u001b[0m\u001b[0m\n\u001b[0m\u001b[1;32m    605\u001b[0m \u001b[0;34m\u001b[0m\u001b[0m\n\u001b[1;32m    606\u001b[0m     \u001b[0;32mif\u001b[0m \u001b[0msignature\u001b[0m\u001b[0;34m.\u001b[0m\u001b[0mnum_outputs\u001b[0m \u001b[0;34m==\u001b[0m \u001b[0;36m1\u001b[0m\u001b[0;34m:\u001b[0m\u001b[0;34m\u001b[0m\u001b[0;34m\u001b[0m\u001b[0m\n",
      "\u001b[0;32m~/anaconda3/envs/pangeo/lib/python3.7/site-packages/xarray/core/duck_array_ops.py\u001b[0m in \u001b[0;36mwhere_method\u001b[0;34m(data, cond, other)\u001b[0m\n\u001b[1;32m    272\u001b[0m     \u001b[0;32mif\u001b[0m \u001b[0mother\u001b[0m \u001b[0;32mis\u001b[0m \u001b[0mdtypes\u001b[0m\u001b[0;34m.\u001b[0m\u001b[0mNA\u001b[0m\u001b[0;34m:\u001b[0m\u001b[0;34m\u001b[0m\u001b[0;34m\u001b[0m\u001b[0m\n\u001b[1;32m    273\u001b[0m         \u001b[0mother\u001b[0m \u001b[0;34m=\u001b[0m \u001b[0mdtypes\u001b[0m\u001b[0;34m.\u001b[0m\u001b[0mget_fill_value\u001b[0m\u001b[0;34m(\u001b[0m\u001b[0mdata\u001b[0m\u001b[0;34m.\u001b[0m\u001b[0mdtype\u001b[0m\u001b[0;34m)\u001b[0m\u001b[0;34m\u001b[0m\u001b[0;34m\u001b[0m\u001b[0m\n\u001b[0;32m--> 274\u001b[0;31m     \u001b[0;32mreturn\u001b[0m \u001b[0mwhere\u001b[0m\u001b[0;34m(\u001b[0m\u001b[0mcond\u001b[0m\u001b[0;34m,\u001b[0m \u001b[0mdata\u001b[0m\u001b[0;34m,\u001b[0m \u001b[0mother\u001b[0m\u001b[0;34m)\u001b[0m\u001b[0;34m\u001b[0m\u001b[0;34m\u001b[0m\u001b[0m\n\u001b[0m\u001b[1;32m    275\u001b[0m \u001b[0;34m\u001b[0m\u001b[0m\n\u001b[1;32m    276\u001b[0m \u001b[0;34m\u001b[0m\u001b[0m\n",
      "\u001b[0;32m~/anaconda3/envs/pangeo/lib/python3.7/site-packages/xarray/core/duck_array_ops.py\u001b[0m in \u001b[0;36mwhere\u001b[0;34m(condition, x, y)\u001b[0m\n\u001b[1;32m    266\u001b[0m \u001b[0;32mdef\u001b[0m \u001b[0mwhere\u001b[0m\u001b[0;34m(\u001b[0m\u001b[0mcondition\u001b[0m\u001b[0;34m,\u001b[0m \u001b[0mx\u001b[0m\u001b[0;34m,\u001b[0m \u001b[0my\u001b[0m\u001b[0;34m)\u001b[0m\u001b[0;34m:\u001b[0m\u001b[0;34m\u001b[0m\u001b[0;34m\u001b[0m\u001b[0m\n\u001b[1;32m    267\u001b[0m     \u001b[0;34m\"\"\"Three argument where() with better dtype promotion rules.\"\"\"\u001b[0m\u001b[0;34m\u001b[0m\u001b[0;34m\u001b[0m\u001b[0m\n\u001b[0;32m--> 268\u001b[0;31m     \u001b[0;32mreturn\u001b[0m \u001b[0m_where\u001b[0m\u001b[0;34m(\u001b[0m\u001b[0mcondition\u001b[0m\u001b[0;34m,\u001b[0m \u001b[0;34m*\u001b[0m\u001b[0mas_shared_dtype\u001b[0m\u001b[0;34m(\u001b[0m\u001b[0;34m[\u001b[0m\u001b[0mx\u001b[0m\u001b[0;34m,\u001b[0m \u001b[0my\u001b[0m\u001b[0;34m]\u001b[0m\u001b[0;34m)\u001b[0m\u001b[0;34m)\u001b[0m\u001b[0;34m\u001b[0m\u001b[0;34m\u001b[0m\u001b[0m\n\u001b[0m\u001b[1;32m    269\u001b[0m \u001b[0;34m\u001b[0m\u001b[0m\n\u001b[1;32m    270\u001b[0m \u001b[0;34m\u001b[0m\u001b[0m\n",
      "\u001b[0;32m~/anaconda3/envs/pangeo/lib/python3.7/site-packages/xarray/core/duck_array_ops.py\u001b[0m in \u001b[0;36mf\u001b[0;34m(*args, **kwargs)\u001b[0m\n\u001b[1;32m     54\u001b[0m             \u001b[0;32melse\u001b[0m\u001b[0;34m:\u001b[0m\u001b[0;34m\u001b[0m\u001b[0;34m\u001b[0m\u001b[0m\n\u001b[1;32m     55\u001b[0m                 \u001b[0mwrapped\u001b[0m \u001b[0;34m=\u001b[0m \u001b[0mgetattr\u001b[0m\u001b[0;34m(\u001b[0m\u001b[0meager_module\u001b[0m\u001b[0;34m,\u001b[0m \u001b[0mname\u001b[0m\u001b[0;34m)\u001b[0m\u001b[0;34m\u001b[0m\u001b[0;34m\u001b[0m\u001b[0m\n\u001b[0;32m---> 56\u001b[0;31m             \u001b[0;32mreturn\u001b[0m \u001b[0mwrapped\u001b[0m\u001b[0;34m(\u001b[0m\u001b[0;34m*\u001b[0m\u001b[0margs\u001b[0m\u001b[0;34m,\u001b[0m \u001b[0;34m**\u001b[0m\u001b[0mkwargs\u001b[0m\u001b[0;34m)\u001b[0m\u001b[0;34m\u001b[0m\u001b[0;34m\u001b[0m\u001b[0m\n\u001b[0m\u001b[1;32m     57\u001b[0m \u001b[0;34m\u001b[0m\u001b[0m\n\u001b[1;32m     58\u001b[0m     \u001b[0;32melse\u001b[0m\u001b[0;34m:\u001b[0m\u001b[0;34m\u001b[0m\u001b[0;34m\u001b[0m\u001b[0m\n",
      "\u001b[0;32m<__array_function__ internals>\u001b[0m in \u001b[0;36mwhere\u001b[0;34m(*args, **kwargs)\u001b[0m\n",
      "\u001b[0;31mKeyboardInterrupt\u001b[0m: "
     ]
    }
   ],
   "source": [
    "datapath='/home/disk/eos3/aswann/Shared/Data/forestmaps/hansen_landsat_forestloss/'\n",
    "filepath = datapath +'Hansen_GFC-2019-v1.7_lossyear_'\n",
    "# filenamelist=sorted(glob.glob(filepath)) # find the combination of all of these lists\n",
    "\n",
    "# change to loop over list of loc\n",
    "for i in range(file_list_len): #len(filenamelist)): # Loops over all file names\n",
    "    file_num=file_list[i] \n",
    "    filename = filepath + file_num\n",
    "    print(\"Working on file #\" + str(i + 1) + \": \" + file_num)\n",
    "    ds = xr.open_rasterio(filename +\".tif\")\n",
    "    \n",
    "    # Creates the empty result file \n",
    "    mapdata = ds.variable.data[0]\n",
    "    nx, ny = ds.sizes['x'], ds.sizes['y']\n",
    "    mapdata_size = mapdata.size\n",
    "    mapdata_side = int(mapdata.shape[0])\n",
    "    kernel = np.ones((int(mapdata_side/10), int(mapdata_side/10)))\n",
    "    kernel_height, kernel_width = kernel.shape\n",
    "    result_height = int(mapdata.shape[0]/kernel_height)\n",
    "    result_width = result_height\n",
    "    result = np.zeros((result_height, result_width, mapdata.max())) # lat, lon, year\n",
    "    #print(\"Result shape: \" + str(result.shape))\n",
    "    \n",
    "   # Loops thorugh data by year, and lat, and lon. Finds the percentage of each kernel\n",
    "    map_max = mapdata.max() #Finds maximum year that data extends to\n",
    "    print(\"Year:\", end =\" \")\n",
    "    for year in range(mapdata.max()): # 0-18\n",
    "        print(str(year), end =\", \")\n",
    "        binary = ds['band'].where(ds==(year+1)).values # 1-19\n",
    "        binary = np.squeeze(binary) # Removes extra dimension \n",
    "        for lat in range(result_height): # Loops over all lat\n",
    "            for lon in range(result_width): #loops over all lon\n",
    "                curr = binary[lat*kernel_height:(lat+1)*kernel_height-1, lon*kernel_width:(lon+1)*kernel_width-1]\n",
    "                result[lat, lon, year] = np.nansum(curr)/curr.size\n",
    "                 \n",
    "    # Establishes the lat and lon arrays with length 10, and the year\n",
    "    years = np.arange(2000, 2019) # Establishes the years that the data spans\n",
    "    lon_num = ds.transform[2]\n",
    "    lat_num = ds.transform[5]\n",
    "    lat = np.arange(lat_num-0.5, lat_num-10-0.5, -1) # Puts data point in the middle of the box\n",
    "    lon = np.arange(lon_num+0.5, lon_num+10+0.5)\n",
    "    #print(lon)\n",
    "    #print(lat)\n",
    "    \n",
    "    # Creates xarray data set, using lon, lat, year already established \n",
    "    ds_result = xr.Dataset(\n",
    "        {\n",
    "            \"Percent\": ([\"lon\", \"lat\", \"year\"], result), #make the same order as result\n",
    "        },\n",
    "        coords={\n",
    "            \"lon\": ([\"lon\"], lon),\n",
    "            \"lat\": ([\"lat\"], lat),\n",
    "            \"year\": years #2000-2019 just in numbers\n",
    "        },\n",
    "    )\n",
    "    \n",
    "    # Saves as netcdf\n",
    "    ds_result.to_netcdf(filename +\".nc\")\n",
    "    #print(ds_result.head)\n",
    "    print(\"File \" + file_num + \" is saved\")\n",
    "    print() #Spacing line\n",
    "    del binary\n",
    "    gc.collect()"
   ]
  },
  {
   "cell_type": "code",
   "execution_count": 13,
   "metadata": {},
   "outputs": [
    {
     "name": "stdout",
     "output_type": "stream",
     "text": [
      "<bound method Dataset.head of <xarray.Dataset>\n",
      "Dimensions:  (lat: 10, lon: 10, year: 19)\n",
      "Coordinates:\n",
      "  * lon      (lon) float64 -69.5 -68.5 -67.5 -66.5 ... -63.5 -62.5 -61.5 -60.5\n",
      "  * lat      (lat) float64 9.5 8.5 7.5 6.5 5.5 4.5 3.5 2.5 1.5 0.5\n",
      "  * year     (year) int64 2000 2001 2002 2003 2004 ... 2014 2015 2016 2017 2018\n",
      "Data variables:\n",
      "    Percent  (lon, lat, year) float64 0.0008844 0.00235 ... 0.005912 0.008284>\n"
     ]
    }
   ],
   "source": [
    "print(ds_result.head)"
   ]
  },
  {
   "cell_type": "code",
   "execution_count": 37,
   "metadata": {},
   "outputs": [],
   "source": [
    "ds_result.to_netcdf(\"/home/disk/eos3/aswann/Shared/Data/forestmaps/hansen_landsat_forestloss/Hansen_GFC-2019-v1.7_lossyear_00N_000E.nc\")"
   ]
  },
  {
   "cell_type": "code",
   "execution_count": 19,
   "metadata": {},
   "outputs": [],
   "source": [
    "ds_test = xr.open_dataset(\"/home/disk/eos3/aswann/Shared/Data/forestmaps/hansen_landsat_forestloss/Hansen_GFC-2019-v1.7_lossyear_00N_000E.nc\")"
   ]
  },
  {
   "cell_type": "code",
   "execution_count": 43,
   "metadata": {},
   "outputs": [
    {
     "data": {
      "text/plain": [
       "<bound method Dataset.head of <xarray.Dataset>\n",
       "Dimensions:  (lat: 10, lon: 10, year: 19)\n",
       "Coordinates:\n",
       "  * lon      (lon) float64 0.5 1.5 2.5 3.5 4.5 5.5 6.5 7.5 8.5 9.5\n",
       "  * lat      (lat) float64 -0.5 -1.5 -2.5 -3.5 -4.5 -5.5 -6.5 -7.5 -8.5 -9.5\n",
       "  * year     (year) int64 2000 2001 2002 2003 2004 ... 2014 2015 2016 2017 2018\n",
       "Data variables:\n",
       "    Percent  (lon, lat, year) float64 0.0 0.0 0.0 0.0 0.0 ... 0.0 0.0 0.0 0.0>"
      ]
     },
     "execution_count": 43,
     "metadata": {},
     "output_type": "execute_result"
    }
   ],
   "source": [
    "ds_test.head"
   ]
  },
  {
   "cell_type": "code",
   "execution_count": 30,
   "metadata": {},
   "outputs": [
    {
     "data": {
      "text/plain": [
       "<matplotlib.colorbar.Colorbar at 0x7f3db68e4e10>"
      ]
     },
     "execution_count": 30,
     "metadata": {},
     "output_type": "execute_result"
    },
    {
     "data": {
      "image/png": "[encoded data removed]",
      "text/plain": [
       "<Figure size 432x288 with 2 Axes>"
      ]
     },
     "metadata": {
      "needs_background": "light"
     },
     "output_type": "display_data"
    }
   ],
   "source": [
    "plt.imshow(np.sum(result[:,:,:], 2))\n",
    "plt.colorbar()"
   ]
  },
  {
   "cell_type": "code",
   "execution_count": 18,
   "metadata": {},
   "outputs": [
    {
     "data": {
      "text/plain": [
       "<matplotlib.collections.PathCollection at 0x7f3dbec1e810>"
      ]
     },
     "execution_count": 18,
     "metadata": {},
     "output_type": "execute_result"
    },
    {
     "data": {
      "image/png": "[encoded data removed]",
      "text/plain": [
       "<Figure size 432x288 with 1 Axes>"
      ]
     },
     "metadata": {
      "needs_background": "light"
     },
     "output_type": "display_data"
    }
   ],
   "source": [
    "ds_result.plot.scatter(\"Percent\", \"year\")\n"
   ]
  },
  {
   "cell_type": "code",
   "execution_count": 176,
   "metadata": {},
   "outputs": [
    {
     "data": {
      "text/plain": [
       "80.0"
      ]
     },
     "execution_count": 176,
     "metadata": {},
     "output_type": "execute_result"
    }
   ],
   "source": [
    "# Other way to access lat lon values, but it seems to have long decimals  \n",
    "ds['y'][0].values \n",
    "ds['x'][0].values\n",
    "\n",
    "# Best one to use \n",
    "ds.transform[2] #lon value w/ negative instead of E, W\n",
    "ds.transform[5] # Lat value w/ pos,neg \n"
   ]
  },
  {
   "cell_type": "code",
   "execution_count": 177,
   "metadata": {},
   "outputs": [],
   "source": [
    "# Loop through numbers from string, not needed when +/- is already in number\n",
    "lat_num = int(loc[0:2])#change to number (int? or float?)\n",
    "lat_n_s = loc[2:3]# if statement to make lat positive or negative\n",
    "if lat_n_s==\"S\":\n",
    "    lat_num = (-1)*lat_num\n",
    "\n",
    "lon_num = int(loc[4:7])\n",
    "lon_n_s = loc[7:8]\n",
    "if lon_n_s==\"W\":\n",
    "    lon_num = (-1)*lon_num\n",
    "\n",
    "# Use these with ds.transform to make the array and center boxes in the middle\n",
    "lat = np.arange(lat_num-0.5, lat_num-10-0.5, -1) \n",
    "lon = np.arange(lon_num+0.5, lon_num+10+0.5)"
   ]
  },
  {
   "cell_type": "code",
   "execution_count": 178,
   "metadata": {},
   "outputs": [],
   "source": [
    "\"\"\"\n",
    "# Code for one file \n",
    "filename = 'Hansen_GFC-2019-v1.7_lossyear_40N_080W.tif'\n",
    "inputFile=datapath +filename\n",
    "inputFile\n",
    "\"\"\""
   ]
  },
  {
   "cell_type": "code",
   "execution_count": 179,
   "metadata": {},
   "outputs": [],
   "source": [
    "\"\"\"\n",
    "# open dataset with xarray\n",
    "ds = xr.open_rasterio(inputFile)\n",
    "\"\"\""
   ]
  },
  {
   "cell_type": "code",
   "execution_count": 181,
   "metadata": {},
   "outputs": [],
   "source": [
    "\"\"\" \n",
    "# array of map data with missing values converted to nan\n",
    "mapdata = ds.variable.data[0]\n",
    "\n",
    "# size of x and y dimensions\n",
    "nx, ny = ds.sizes['x'], ds.sizes['y']\n",
    "\n",
    "\"\"\""
   ]
  },
  {
   "cell_type": "code",
   "execution_count": 182,
   "metadata": {},
   "outputs": [],
   "source": [
    "\"\"\" Creates empty results array\n",
    "mapdata_size = mapdata.size\n",
    "mapdata_side = int(mapdata.shape[0])\n",
    "kernel = np.ones((int(mapdata_side/10), int(mapdata_side/10)))\n",
    "kernel_height, kernel_width = kernel.shape\n",
    "\n",
    "result_height = int(mapdata.shape[0]/kernel_height)\n",
    "result_width = result_height\n",
    "result = np.zeros((result_height, result_width, mapdata.max())) # lat, lon, year\n",
    "result.shape\n",
    "\"\"\""
   ]
  },
  {
   "cell_type": "code",
   "execution_count": 184,
   "metadata": {},
   "outputs": [
    {
     "data": {
      "text/plain": [
       "\"\\nfor i in range(mapdata.max()): # 0-18\\n    binary = ds['band'].where(ds==(i+1)).values # 1-19\\n    binary = np.squeeze(binary)\\n    display(binary.shape)\\n\""
      ]
     },
     "execution_count": 184,
     "metadata": {},
     "output_type": "execute_result"
    }
   ],
   "source": [
    "\"\"\" Test the first part of the loop \n",
    "for i in range(mapdata.max()): # 0-18\n",
    "    binary = ds['band'].where(ds==(i+1)).values # 1-19\n",
    "    binary = np.squeeze(binary)\n",
    "    display(binary.shape)\n",
    "\"\"\""
   ]
  },
  {
   "cell_type": "code",
   "execution_count": 185,
   "metadata": {},
   "outputs": [
    {
     "data": {
      "text/plain": [
       "'\\ni = 0\\nfor j in range(result_height):\\n    for k in range(result_width):\\n        curr = binary[i*kernel_height:(i+1)*kernel_height-1, j*kernel_width:(j+1)*kernel_width-1]\\n        #display(curr)\\n        result[j, k, i] = np.nansum(curr)/curr.size\\n'"
      ]
     },
     "execution_count": 185,
     "metadata": {},
     "output_type": "execute_result"
    }
   ],
   "source": [
    "\"\"\" Tests loops 2 and 3\n",
    "i = 0\n",
    "for j in range(result_height):\n",
    "    for k in range(result_width):\n",
    "        curr = binary[i*kernel_height:(i+1)*kernel_height-1, j*kernel_width:(j+1)*kernel_width-1]\n",
    "        #display(curr)\n",
    "        result[j, k, i] = np.nansum(curr)/curr.size\n",
    "\"\"\""
   ]
  },
  {
   "cell_type": "code",
   "execution_count": null,
   "metadata": {},
   "outputs": [],
   "source": [
    "\"\"\" Full loop \n",
    "map_max = mapdata.max()\n",
    "for year in range(mapdata.max()): # 0-18\n",
    "    binary = ds['band'].where(ds==(year+1)).values # 1-19\n",
    "    binary = np.squeeze(binary)\n",
    "    for lat in range(result_height):\n",
    "        for lon in range(result_width):\n",
    "            curr = binary[lat*kernel_height:(lat+1)*kernel_height-1, lon*kernel_width:(lon+1)*kernel_width-1]\n",
    "            result[lat, lon, year] = np.nansum(curr)/curr.size\n",
    "\"\"\""
   ]
  },
  {
   "cell_type": "code",
   "execution_count": 78,
   "metadata": {},
   "outputs": [
    {
     "data": {
      "text/plain": [
       "\"\\nNot in use anymore because big one is complete\\nfor i in range(9): # 0-8\\n    binary = ds['band'].where(ds==(i+1)).values # 1-9\\n    binary = np.squeeze(binary)\\n    for j in range(result_height):\\n        for k in range(result_width):\\n            curr = binary[j*kernel_height:(j+1)*kernel_height-1, k*kernel_width:(k+1)*kernel_width-1]\\n            result[j, k, i] = np.nansum(curr)/curr.size\\n\""
      ]
     },
     "execution_count": 78,
     "metadata": {},
     "output_type": "execute_result"
    }
   ],
   "source": [
    "\"\"\" Not in use anymore because full loop works\n",
    "for i in range(9): # 0-8\n",
    "    binary = ds['band'].where(ds==(i+1)).values # 1-9\n",
    "    binary = np.squeeze(binary)\n",
    "    for j in range(result_height):\n",
    "        for k in range(result_width):\n",
    "            curr = binary[j*kernel_height:(j+1)*kernel_height-1, k*kernel_width:(k+1)*kernel_width-1]\n",
    "            result[j, k, i] = np.nansum(curr)/curr.size\n",
    "\"\"\""
   ]
  },
  {
   "cell_type": "code",
   "execution_count": 79,
   "metadata": {},
   "outputs": [
    {
     "data": {
      "text/plain": [
       "\"\\nfor i in range(9): # 0-8\\n    binary = ds['band'].where(ds==(i+10)).values # 10-18\\n    binary = np.squeeze(binary)\\n    for j in range(result_height):\\n        for k in range(result_width):\\n            curr = binary[j*kernel_height:(j+1)*kernel_height-1, k*kernel_width:(k+1)*kernel_width-1]\\n            result[j, k, i+9] = np.nansum(curr)/curr.size\\n\""
      ]
     },
     "execution_count": 79,
     "metadata": {},
     "output_type": "execute_result"
    }
   ],
   "source": [
    "\"\"\" Not in use anymore because full loop works\n",
    "for i in range(9): # 0-8\n",
    "    binary = ds['band'].where(ds==(i+10)).values # 10-18\n",
    "    binary = np.squeeze(binary)\n",
    "    for j in range(result_height):\n",
    "        for k in range(result_width):\n",
    "            curr = binary[j*kernel_height:(j+1)*kernel_height-1, k*kernel_width:(k+1)*kernel_width-1]\n",
    "            result[j, k, i+9] = np.nansum(curr)/curr.size\n",
    "\"\"\""
   ]
  },
  {
   "cell_type": "code",
   "execution_count": 80,
   "metadata": {},
   "outputs": [
    {
     "data": {
      "text/plain": [
       "\"\\nfor i in range(1): # 0\\n    binary = ds['band'].where(ds==(i+19)).values # 19\\n    binary = np.squeeze(binary)\\n    for j in range(result_height):\\n        for k in range(result_width):\\n            curr = binary[j*kernel_height:(j+1)*kernel_height-1, k*kernel_width:(k+1)*kernel_width-1]\\n            result[j, k, i+18] = np.nansum(curr)/curr.size\\n\""
      ]
     },
     "execution_count": 80,
     "metadata": {},
     "output_type": "execute_result"
    }
   ],
   "source": [
    "\"\"\" Not in use anymore because full loop works\n",
    "for i in range(1): # 0\n",
    "    binary = ds['band'].where(ds==(i+19)).values # 19\n",
    "    binary = np.squeeze(binary)\n",
    "    for j in range(result_height):\n",
    "        for k in range(result_width):\n",
    "            curr = binary[j*kernel_height:(j+1)*kernel_height-1, k*kernel_width:(k+1)*kernel_width-1]\n",
    "            result[j, k, i+18] = np.nansum(curr)/curr.size\n",
    "\"\"\""
   ]
  },
  {
   "cell_type": "code",
   "execution_count": 90,
   "metadata": {},
   "outputs": [],
   "source": [
    "\"\"\" Creates xarray data file from result\n",
    "\n",
    "#lon = np.arange(1,11) # Make specific to file in a repeatable way\n",
    "#lat = np.arange(1,11)\n",
    "years = np.arange(2000, 2019)\n",
    "\n",
    "lat = np.arange(lat_num-0.5, lat_num-10-0.5, -1)\n",
    "lon = np.arange(lon_num+0.5, lon_num+10+0.5)\n",
    "\n",
    "ds_result = xr.Dataset(\n",
    "    {\n",
    "        \"Percent\": ([\"lon\", \"lat\", \"year\"], result), #make the same order as result\n",
    "    },\n",
    "    coords={\n",
    "        \"lon\": ([\"lon\"], lon),\n",
    "        \"lat\": ([\"lat\"], lat),\n",
    "        \"year\": years #2000-2019 just in numbers\n",
    "    },\n",
    ")\n",
    "\"\"\""
   ]
  },
  {
   "cell_type": "code",
   "execution_count": 91,
   "metadata": {},
   "outputs": [
    {
     "data": {
      "text/plain": [
       "<matplotlib.colorbar.Colorbar at 0x7fc95bb18590>"
      ]
     },
     "execution_count": 91,
     "metadata": {},
     "output_type": "execute_result"
    },
    {
     "data": {
      "image/png": "[encoded data removed]",
      "text/plain": [
       "<Figure size 432x288 with 2 Axes>"
      ]
     },
     "metadata": {
      "needs_background": "light"
     },
     "output_type": "display_data"
    }
   ],
   "source": [
    "plt.imshow(result[:,:,18])\n",
    "plt.colorbar()"
   ]
  },
  {
   "cell_type": "code",
   "execution_count": 109,
   "metadata": {},
   "outputs": [
    {
     "data": {
      "text/plain": [
       "<matplotlib.collections.PathCollection at 0x7fc95b8b8c10>"
      ]
     },
     "execution_count": 109,
     "metadata": {},
     "output_type": "execute_result"
    },
    {
     "data": {
      "image/png": "[encoded data removed]",
      "text/plain": [
       "<Figure size 432x288 with 1 Axes>"
      ]
     },
     "metadata": {
      "needs_background": "light"
     },
     "output_type": "display_data"
    }
   ],
   "source": [
    "ds_result.plot.scatter(\"Percent\", \"year\")\n"
   ]
  },
  {
   "cell_type": "code",
   "execution_count": 214,
   "metadata": {},
   "outputs": [
    {
     "data": {
      "text/plain": [
       "'\\nlon = [[-99.83, -99.32], [-99.79, -99.23]]\\n\\nlat = [[42.25, 42.21], [42.63, 42.59]]\\n\\nds_result = xr.Dataset(\\n    {\\n        \"Percent\": ([\"x\", \"y\", \"time\"], result),\\n    },\\n    coords={\\n        \"lon\": ([\"x\", \"y\"], lon),\\n        \"lat\": ([\"x\", \"y\"], lat),\\n        \"time\": pd.date_range(\"2014-09-06\", periods=3),\\n        \"reference_time\": pd.Timestamp(\"2014-09-05\"),\\n    },\\n)\\n'"
      ]
     },
     "execution_count": 214,
     "metadata": {},
     "output_type": "execute_result"
    }
   ],
   "source": [
    "\"\"\" Doesn't work\n",
    "lon = [[-99.83, -99.32], [-99.79, -99.23]]\n",
    "\n",
    "lat = [[42.25, 42.21], [42.63, 42.59]]\n",
    "\n",
    "ds_result = xr.Dataset(\n",
    "    {\n",
    "        \"Percent\": ([\"x\", \"y\", \"time\"], result),\n",
    "    },\n",
    "    coords={\n",
    "        \"lon\": ([\"x\", \"y\"], lon),\n",
    "        \"lat\": ([\"x\", \"y\"], lat),\n",
    "        \"time\": pd.date_range(\"2014-09-06\", periods=3),\n",
    "        \"reference_time\": pd.Timestamp(\"2014-09-05\"),\n",
    "    },\n",
    ")\n",
    "\"\"\""
   ]
  },
  {
   "cell_type": "code",
   "execution_count": null,
   "metadata": {},
   "outputs": [],
   "source": [
    "result\n",
    "# del binary"
   ]
  },
  {
   "cell_type": "code",
   "execution_count": null,
   "metadata": {},
   "outputs": [],
   "source": [
    "mapdata"
   ]
  },
  {
   "cell_type": "code",
   "execution_count": null,
   "metadata": {},
   "outputs": [],
   "source": [
    "im=plt.imshow(mapdata)\n",
    "cbar = plt.colorbar(im,orientation='horizontal',extend='both')"
   ]
  },
  {
   "cell_type": "code",
   "execution_count": null,
   "metadata": {},
   "outputs": [],
   "source": [
    "##mapdata2=np.where(mapdata>0,1,0)\n",
    "ds_to_plot = ds['band'].where(ds>0) #\n",
    "mapdata2 = ds_to_plot.variable.data[0]\n",
    "\n",
    "im=plt.imshow(mapdata2)\n",
    "cbar = plt.colorbar(im,orientation='horizontal',extend='both')"
   ]
  },
  {
   "cell_type": "code",
   "execution_count": null,
   "metadata": {},
   "outputs": [],
   "source": [
    "mapdata.shape\n"
   ]
  },
  {
   "cell_type": "code",
   "execution_count": null,
   "metadata": {},
   "outputs": [],
   "source": [
    "dx = nx/10\n",
    "first_cell_x = 0\n",
    "first_cell_y = 0\n",
    "# [first_cell_x:first_cell_x+dx, first_cell_y:first_cell_y+dx]\n",
    "#subset = mapdata[first_cell_x:first_cell_x+dx, first_cell_y:first_cell_y+dx]\n",
    "#subset.shape\n",
    "\n",
    "ds_subset = ds.isel(space=0)"
   ]
  },
  {
   "cell_type": "code",
   "execution_count": null,
   "metadata": {},
   "outputs": [],
   "source": [
    "## This fails! runs out of memory...\n",
    "\n",
    "# create a figure\n",
    "fig = plt.figure(figsize=(8,10))\n",
    "\n",
    "# create an axis with a projection\n",
    "ax=plt.axes(projection=ccrs.Robinson())\n",
    "#ax=fig.add_subplot(111,projection=ccrs.AlbersEqualArea())\n",
    "\n",
    "#crs=ccrs.crs.epsg(4326)\n",
    "               \n",
    "# add coastline\n",
    "ax.coastlines()\n",
    "\n",
    "# plot image\n",
    "#im = ax.imshow(mapdata, transform=ds.crs, cmap='YlOrBr',vmin=0,vmax=100)\n",
    "im = plt.pcolormesh(ds['x'], ds['y'], mapdata, transform=ccrs.PlateCarree())\n",
    " \n",
    "ax.set_global()\n",
    "\n",
    "# add a colorbar\n",
    "cbar = plt.colorbar(im,orientation='horizontal',extend='both')\n",
    "\n",
    "# show the image\n",
    "plt.show()"
   ]
  },
  {
   "cell_type": "code",
   "execution_count": null,
   "metadata": {},
   "outputs": [],
   "source": []
  }
 ],
 "metadata": {
  "kernelspec": {
   "display_name": "Python 3",
   "language": "python",
   "name": "python3"
  },
  "language_info": {
   "codemirror_mode": {
    "name": "ipython",
    "version": 3
   },
   "file_extension": ".py",
   "mimetype": "text/x-python",
   "name": "python",
   "nbconvert_exporter": "python",
   "pygments_lexer": "ipython3",
   "version": "3.7.8"
  }
 },
 "nbformat": 4,
 "nbformat_minor": 4
}
