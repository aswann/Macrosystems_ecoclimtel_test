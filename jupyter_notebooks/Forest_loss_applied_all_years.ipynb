{
 "cells": [
  {
   "cell_type": "code",
   "execution_count": 256,
   "metadata": {},
   "outputs": [],
   "source": [
    "import netCDF4 as nc4\n",
    "import numpy as np\n",
    "import pandas as pd\n",
    "import matplotlib.pyplot as plt\n",
    "import cartopy.crs as ccrs\n",
    "import xarray as xr"
   ]
  },
  {
   "cell_type": "code",
   "execution_count": 283,
   "metadata": {},
   "outputs": [],
   "source": [
    "hansen_ds = xr.open_dataarray(\"hansen_ds.nc\")\n",
    "mean_dom_grass = xr.open_dataarray(\"mean_dom_grass.nc\")\n",
    "sim_2000 = xr.open_dataarray(\"sim_2000.nc\")\n",
    "\n",
    "sim_2000_test = xr.open_dataarray(\"sim_2000_test.nc\")\n",
    "\n",
    "\n",
    "# Open the climate simulation data file\n",
    "datapath='/home/disk/eos18/aswann/Macrosystems_ecoclimtel_test/CLM_transient_land_use/landuse.timeseries_0.9x1.25_hist_78pfts_CMIP6_simyr1850-2015_c170824.nc'\n",
    "ds = xr.open_dataset(datapath)\n",
    "PCT_NAT_PFT = ds.PCT_NAT_PFT\n",
    "\n",
    "\n"
   ]
  },
  {
   "cell_type": "code",
   "execution_count": 284,
   "metadata": {},
   "outputs": [
    {
     "data": {
      "text/plain": [
       "(166, 15, 192, 288)"
      ]
     },
     "execution_count": 284,
     "metadata": {},
     "output_type": "execute_result"
    }
   ],
   "source": [
    "#Climate file stats\n",
    "# Year 200 = PCT_NAT_PFT[150,0,0,0]\n",
    "\n",
    "PCT_NAT_PFT.shape\n"
   ]
  },
  {
   "cell_type": "code",
   "execution_count": 278,
   "metadata": {},
   "outputs": [
    {
     "name": "stdout",
     "output_type": "stream",
     "text": [
      "(192, 288, 16)\n",
      "(192, 288)\n"
     ]
    }
   ],
   "source": [
    "# Create binary of locations where there is forest loss at any year\n",
    "\n",
    "print(hansen_ds.shape)\n",
    "forest_loss_binary = hansen_ds[:,:, 0]\n",
    "print(forest_loss_binary.shape)\n",
    "\n",
    "\n",
    "\n",
    "for i in np.arange(0,192):\n",
    "    for j in np.arange(0,288):\n",
    "        if hansen_ds[i,j,:].sum() > 0:\n",
    "            forest_loss_binary[i,j] = 1\n",
    "        else:\n",
    "                forest_loss_binary[i,j] = 0     "
   ]
  },
  {
   "cell_type": "code",
   "execution_count": 279,
   "metadata": {},
   "outputs": [
    {
     "data": {
      "text/plain": [
       "<matplotlib.collections.QuadMesh at 0x7f0b9d550750>"
      ]
     },
     "execution_count": 279,
     "metadata": {},
     "output_type": "execute_result"
    },
    {
     "data": {
      "image/png": "[encoded data removed]",
      "text/plain": [
       "<Figure size 432x288 with 2 Axes>"
      ]
     },
     "metadata": {
      "needs_background": "light"
     },
     "output_type": "display_data"
    }
   ],
   "source": [
    "forest_loss_binary.plot()"
   ]
  },
  {
   "cell_type": "code",
   "execution_count": 280,
   "metadata": {},
   "outputs": [],
   "source": [
    "where_forest_loss = np.where(forest_loss_binary > 0)"
   ]
  },
  {
   "cell_type": "code",
   "execution_count": 281,
   "metadata": {},
   "outputs": [
    {
     "name": "stdout",
     "output_type": "stream",
     "text": [
      "1847\n",
      "(1847,)\n"
     ]
    }
   ],
   "source": [
    "print(len(where_forest_loss[0]))\n",
    "print(where_forest_loss[1].shape)\n"
   ]
  },
  {
   "cell_type": "code",
   "execution_count": 298,
   "metadata": {},
   "outputs": [],
   "source": [
    "def forest_loss_applied_by_year(previous_year_file, year):\n",
    "      \n",
    "    # Set entire new file to the corresponding model files for that year\n",
    "    year_index_model = int(year - 1850)\n",
    "    new_year = PCT_NAT_PFT[year_index_model, :, :, :]\n",
    "    \n",
    "    # Loop through the list of coordinates where forest loss ever occured\n",
    "    for i in np.arange(len(where_forest_loss[0])): \n",
    "        lat = where_forest_loss[0][i]\n",
    "        lon = where_forest_loss[1][i]\n",
    "         \n",
    "        # Set everywhere with Hansen forest loss to previous year's file\n",
    "        # Makes this region unaffected in anyway by the climate model file\n",
    "        new_year[:,lat,lon] = previous_year_file[:, lat, lon]\n",
    "        \n",
    "        # Finds hansen forest loss amount, if nan --> 0 \n",
    "        year_index_forest_loss = int(year - 2000) # Selects specfic year of forest loss\n",
    "        forest_loss = hansen_ds[lat,lon, year_index_forest_loss] \n",
    "        \n",
    "\n",
    "        tree_loss_total = 0  # Count total tree loss in a single box\n",
    "        \n",
    "        for k in [1,2,3,4,5,6,7,8]: #loop though tree numbers -- k\n",
    "            tree_value = previous_year_file[k,lat,lon] # Gets old tree value from similation input data\n",
    "            new_tree_value = tree_value * (1-forest_loss) # Creates new tree value that accounts for fraction of tree loss\n",
    "            loss = tree_value - new_tree_value # Calculates tree loss amount for tree type in the box\n",
    "            tree_loss_total = tree_loss_total + loss # Aggreagates loss across PFTs (trees)\n",
    "            new_year[k,lat,lon] = new_tree_value # Assigns new tree value in the manipulated file\n",
    "\n",
    "        grass_type = mean_dom_grass[lat,lon].values\n",
    "        tree_loss_total = tree_loss_total.values\n",
    "        #print(tree_loss_total)\n",
    "        old_grass = previous_year_file[int(grass_type),lat,lon]\n",
    "        new_year[int(grass_type),lat,lon] = old_grass + tree_loss_total     \n",
    "\n",
    "    \n",
    "    new_year.to_netcdf(\"forest_loss_applied_\" + str(year) +  \".nc\")  \n",
    "    print(\"Year \" + str(year) + \" Done!\")\n",
    "    print()\n",
    "    \n",
    "    return new_year\n",
    "    \n",
    "\n"
   ]
  },
  {
   "cell_type": "code",
   "execution_count": 299,
   "metadata": {},
   "outputs": [],
   "source": [
    "# Reopen all needed files to call funtion\n",
    "\n",
    "hansen_ds = xr.open_dataarray(\"hansen_ds.nc\")\n",
    "hansen_ds = np.nan_to_num(hansen_ds)\n",
    "mean_dom_grass = xr.open_dataarray(\"mean_dom_grass.nc\")\n",
    "sim_2000 = xr.open_dataarray(\"sim_2000.nc\")\n",
    "\n",
    "\n",
    "# Open the climate simulation data file\n",
    "datapath='/home/disk/eos18/aswann/Macrosystems_ecoclimtel_test/CLM_transient_land_use/landuse.timeseries_0.9x1.25_hist_78pfts_CMIP6_simyr1850-2015_c170824.nc'\n",
    "ds = xr.open_dataset(datapath)\n",
    "PCT_NAT_PFT = ds.PCT_NAT_PFT\n",
    "\n",
    "\n"
   ]
  },
  {
   "cell_type": "code",
   "execution_count": 291,
   "metadata": {},
   "outputs": [
    {
     "name": "stdout",
     "output_type": "stream",
     "text": [
      "Year 2000 Done!\n",
      "\n"
     ]
    }
   ],
   "source": [
    "forest_loss_applied_2000 = forest_loss_applied_by_year(sim_2000, 2000)\n"
   ]
  },
  {
   "cell_type": "code",
   "execution_count": 302,
   "metadata": {},
   "outputs": [
    {
     "data": {
      "text/plain": [
       "(15, 192, 288)"
      ]
     },
     "execution_count": 302,
     "metadata": {},
     "output_type": "execute_result"
    }
   ],
   "source": [
    "year_2000 = xr.open_dataarray(\"forest_loss_applied_2000.nc\")\n",
    "year_2000.shape"
   ]
  },
  {
   "cell_type": "code",
   "execution_count": 303,
   "metadata": {},
   "outputs": [
    {
     "data": {
      "text/plain": [
       "<matplotlib.collections.QuadMesh at 0x7f0ba5d216d0>"
      ]
     },
     "execution_count": 303,
     "metadata": {},
     "output_type": "execute_result"
    },
    {
     "data": {
      "image/png": "[encoded data removed]",
      "text/plain": [
       "<Figure size 432x288 with 2 Axes>"
      ]
     },
     "metadata": {
      "needs_background": "light"
     },
     "output_type": "display_data"
    }
   ],
   "source": [
    "(year_2000[4,:,:]- sim_2000[4,:,:]).plot()"
   ]
  },
  {
   "cell_type": "code",
   "execution_count": 301,
   "metadata": {},
   "outputs": [
    {
     "name": "stdout",
     "output_type": "stream",
     "text": [
      "Year 2000 Done!\n",
      "\n",
      "Year 2001 Done!\n",
      "\n",
      "Year 2002 Done!\n",
      "\n",
      "Year 2003 Done!\n",
      "\n",
      "Year 2004 Done!\n",
      "\n",
      "Year 2005 Done!\n",
      "\n",
      "Year 2006 Done!\n",
      "\n",
      "Year 2007 Done!\n",
      "\n",
      "Year 2008 Done!\n",
      "\n",
      "Year 2009 Done!\n",
      "\n",
      "Year 2010 Done!\n",
      "\n",
      "Year 2011 Done!\n",
      "\n",
      "Year 2012 Done!\n",
      "\n",
      "Year 2013 Done!\n",
      "\n",
      "Year 2014 Done!\n",
      "\n",
      "Year 2015 Done!\n",
      "\n"
     ]
    }
   ],
   "source": [
    "forest_loss_applied_2000 = forest_loss_applied_by_year(sim_2000, 2000)\n",
    "forest_loss_applied_2001 = forest_loss_applied_by_year(forest_loss_applied_2000, 2001)\n",
    "forest_loss_applied_2002 = forest_loss_applied_by_year(forest_loss_applied_2001, 2002)\n",
    "forest_loss_applied_2003 = forest_loss_applied_by_year(forest_loss_applied_2002, 2003)\n",
    "forest_loss_applied_2004 = forest_loss_applied_by_year(forest_loss_applied_2003, 2004)\n",
    "forest_loss_applied_2005 = forest_loss_applied_by_year(forest_loss_applied_2004, 2005)\n",
    "forest_loss_applied_2006 = forest_loss_applied_by_year(forest_loss_applied_2005, 2006)\n",
    "forest_loss_applied_2007 = forest_loss_applied_by_year(forest_loss_applied_2006, 2007)\n",
    "forest_loss_applied_2008 = forest_loss_applied_by_year(forest_loss_applied_2007, 2008)\n",
    "forest_loss_applied_2009 = forest_loss_applied_by_year(forest_loss_applied_2008, 2009)\n",
    "forest_loss_applied_2010 = forest_loss_applied_by_year(forest_loss_applied_2009, 2010)\n",
    "forest_loss_applied_2011 = forest_loss_applied_by_year(forest_loss_applied_2010, 2011)\n",
    "forest_loss_applied_2012 = forest_loss_applied_by_year(forest_loss_applied_2011, 2012)\n",
    "forest_loss_applied_2013 = forest_loss_applied_by_year(forest_loss_applied_2012, 2013)\n",
    "forest_loss_applied_2014 = forest_loss_applied_by_year(forest_loss_applied_2013, 2014)\n",
    "forest_loss_applied_2015 = forest_loss_applied_by_year(forest_loss_applied_2014, 2015)\n"
   ]
  },
  {
   "cell_type": "code",
   "execution_count": 304,
   "metadata": {},
   "outputs": [],
   "source": [
    "year_2000 = xr.open_dataarray(\"forest_loss_applied_2000.nc\")\n",
    "year_2001 = xr.open_dataarray(\"forest_loss_applied_2001.nc\")\n",
    "year_2002 = xr.open_dataarray(\"forest_loss_applied_2002.nc\")\n",
    "year_2003 = xr.open_dataarray(\"forest_loss_applied_2003.nc\")\n",
    "year_2004 = xr.open_dataarray(\"forest_loss_applied_2004.nc\")\n",
    "year_2005 = xr.open_dataarray(\"forest_loss_applied_2005.nc\")\n",
    "year_2006 = xr.open_dataarray(\"forest_loss_applied_2006.nc\")\n",
    "year_2007 = xr.open_dataarray(\"forest_loss_applied_2007.nc\")\n",
    "year_2008 = xr.open_dataarray(\"forest_loss_applied_2008.nc\")\n",
    "year_2009 = xr.open_dataarray(\"forest_loss_applied_2009.nc\")\n",
    "year_2010 = xr.open_dataarray(\"forest_loss_applied_2010.nc\")\n"
   ]
  },
  {
   "cell_type": "code",
   "execution_count": 316,
   "metadata": {},
   "outputs": [
    {
     "data": {
      "text/plain": [
       "<matplotlib.collections.QuadMesh at 0x7f0b94cb2490>"
      ]
     },
     "execution_count": 316,
     "metadata": {},
     "output_type": "execute_result"
    },
    {
     "data": {
      "image/png": "[encoded data removed]",
      "text/plain": [
       "<Figure size 432x288 with 2 Axes>"
      ]
     },
     "metadata": {
      "needs_background": "light"
     },
     "output_type": "display_data"
    }
   ],
   "source": [
    "(year_2000[14,:,:]- year_2010[14,:,:]).plot()\n",
    "\n",
    "# plot the change in hansen next to it \n",
    "# change in sum of trees"
   ]
  },
  {
   "cell_type": "code",
   "execution_count": 318,
   "metadata": {},
   "outputs": [
    {
     "data": {
      "text/plain": [
       "<matplotlib.collections.QuadMesh at 0x7f0b94b386d0>"
      ]
     },
     "execution_count": 318,
     "metadata": {},
     "output_type": "execute_result"
    },
    {
     "data": {
      "image/png": "[encoded data removed]",
      "text/plain": [
       "<Figure size 432x288 with 2 Axes>"
      ]
     },
     "metadata": {
      "needs_background": "light"
     },
     "output_type": "display_data"
    }
   ],
   "source": [
    "(year_2000[4,:,:]- year_2010[4,:,:]).plot()"
   ]
  },
  {
   "cell_type": "code",
   "execution_count": null,
   "metadata": {},
   "outputs": [],
   "source": []
  },
  {
   "cell_type": "code",
   "execution_count": 127,
   "metadata": {},
   "outputs": [],
   "source": [
    "# Practice function with small amount of space\n",
    "# Can change to whole world\n",
    "\n",
    "\n",
    "# 11/23 Problem, how to hold onto that has been effected by trees \n",
    "#       Ideas: get a binary of all places trees get lost in any year in tree loss file, and reference that.\n",
    "#             Update everything else with each year of climate file \n",
    "# Loop through only binary \n",
    "\n",
    "\n",
    "\n",
    "def forest_loss_applied_by_year(previous_year_file, year, climate_file):\n",
    "    \n",
    "    # Set new file to the corresponding climate value\n",
    "    year_index_climate = int(year - 1850)\n",
    "    new_year = climate_file[year_index_climate, :, :, :]\n",
    "    \n",
    "    \n",
    "    for i in np.arange(0,192):\n",
    "        for j in np.arange(0,288): \n",
    "           \n",
    "            year_index_forest_loss = int(year - 2000) # Selects specfic year of forest loss\n",
    "\n",
    "            forest_loss = hansen_ds[i,j, year_index_forest_loss] # need something that says if NAN, is 0\n",
    "\n",
    "            if forest_loss > 0:  # NEED TO change to \"If Forest loss in all years is NOT NAN\"\n",
    "                tree_loss_total = 0  # Count total tree loss in a single box\n",
    "                for k in [1,2,3,4,5,6,7,8]: #loop though plant numbers -- k\n",
    "                    tree_value = previous_year_file[k,i,j] # Gets old tree value from similation input data\n",
    "                    new_tree_value = tree_value * (1-forest_loss) # Creates new tree value that accounts for fraction of tree loss\n",
    "                    loss = tree_value - new_tree_value # Calculates tree loss amount for tree type in the box\n",
    "                    tree_loss_total = tree_loss_total + loss # Aggreagates loss across PFTs (trees)\n",
    "                    new_year[k,i,j] = new_tree_value # Assigns new tree value in the manipulated file\n",
    "\n",
    "                grass_type = mean_dom_grass[i,j].values\n",
    "                #print(grass_type)\n",
    "                tree_loss_total = tree_loss_total.values\n",
    "                #print(tree_loss_total)\n",
    "                old_grass = previous_year_file[int(grass_type),i,j]\n",
    "                new_year[int(grass_type),i,j] = old_grass + tree_loss_total \n",
    "   \n",
    "\n",
    "    new_year.to_netcdf(\"forest_loss_applied_\" + str(year) +  \".nc\")  \n",
    "    print(\"Year \" + str(year) + \" Done!\")\n",
    "    print()\n",
    "\n",
    "    return new_year"
   ]
  },
  {
   "cell_type": "code",
   "execution_count": 130,
   "metadata": {},
   "outputs": [
    {
     "ename": "NameError",
     "evalue": "name 'NaN' is not defined",
     "output_type": "error",
     "traceback": [
      "\u001b[0;31m---------------------------------------------------------------------------\u001b[0m",
      "\u001b[0;31mNameError\u001b[0m                                 Traceback (most recent call last)",
      "\u001b[0;32m<ipython-input-130-1b9f34b3dc77>\u001b[0m in \u001b[0;36m<module>\u001b[0;34m\u001b[0m\n\u001b[1;32m      1\u001b[0m \u001b[0;31m#test = forest_loss_applied_by_year(sim_2000, 2000)\u001b[0m\u001b[0;34m\u001b[0m\u001b[0;34m\u001b[0m\u001b[0;34m\u001b[0m\u001b[0m\n\u001b[0;32m----> 2\u001b[0;31m \u001b[0;36m1\u001b[0m\u001b[0;34m-\u001b[0m\u001b[0mNaN\u001b[0m\u001b[0;34m\u001b[0m\u001b[0;34m\u001b[0m\u001b[0m\n\u001b[0m",
      "\u001b[0;31mNameError\u001b[0m: name 'NaN' is not defined"
     ]
    }
   ],
   "source": [
    "#test = forest_loss_applied_by_year(sim_2000, 2000)\n"
   ]
  },
  {
   "cell_type": "code",
   "execution_count": 97,
   "metadata": {},
   "outputs": [
    {
     "name": "stdout",
     "output_type": "stream",
     "text": [
      "0.6926783184434562\n",
      "0.6926783184434562\n",
      "98.02642653212716\n",
      "98.02642653212716\n",
      "99.78471706966218\n",
      "99.78471706966218\n"
     ]
    }
   ],
   "source": [
    "'''\n",
    "print(test[1,150,200].values)\n",
    "print(sim_2000_test[1,150,200].values)\n",
    "\n",
    "print(test[13,150,200].values)\n",
    "print(sim_2000_test[13,150,200].values)\n",
    "\n",
    "\n",
    "print(test[1,150,200].values+test[13,150,200].values+test[7,150,200].values)\n",
    "print(sim_2000_test[1,150,200].values+sim_2000_test[13,150,200].values+sim_2000_test[7,150,200].values)\n",
    "\n",
    "'''"
   ]
  },
  {
   "cell_type": "code",
   "execution_count": 105,
   "metadata": {},
   "outputs": [
    {
     "data": {
      "text/plain": [
       "[<matplotlib.lines.Line2D at 0x7f0bcf91ea10>]"
      ]
     },
     "execution_count": 105,
     "metadata": {},
     "output_type": "execute_result"
    },
    {
     "data": {
      "image/png": "[encoded data removed]",
      "text/plain": [
       "<Figure size 432x288 with 1 Axes>"
      ]
     },
     "metadata": {
      "needs_background": "light"
     },
     "output_type": "display_data"
    }
   ],
   "source": [
    "forest_loss_applied_2015[:,153,203].plot()"
   ]
  },
  {
   "cell_type": "code",
   "execution_count": 115,
   "metadata": {},
   "outputs": [
    {
     "data": {
      "text/plain": [
       "[<matplotlib.lines.Line2D at 0x7f0bcfd00390>]"
      ]
     },
     "execution_count": 115,
     "metadata": {},
     "output_type": "execute_result"
    },
    {
     "data": {
      "image/png": "[encoded data removed]",
      "text/plain": [
       "<Figure size 432x288 with 1 Axes>"
      ]
     },
     "metadata": {
      "needs_background": "light"
     },
     "output_type": "display_data"
    }
   ],
   "source": [
    "(forest_loss_applied_2015[:,153,203]- forest_loss_applied_2000[:,153,203]).plot()"
   ]
  },
  {
   "cell_type": "code",
   "execution_count": null,
   "metadata": {},
   "outputs": [],
   "source": [
    "# FUNCTION BEFORE CHANGES ON 11/24\n",
    "\n",
    "\n",
    "\n",
    "# Practice function with small amount of space\n",
    "# Can change to whole world\n",
    "\n",
    "def forest_loss_applied_by_year(previous_year_file, year, climate_file):\n",
    "    \n",
    "    new_\n",
    "    \n",
    "    \n",
    "    new_year = previous_year_file[:,:,:]\n",
    "    for i in np.arange(0,192):\n",
    "        for j in np.arange(0,288): \n",
    "           \n",
    "            year_index = int(year - 2000)\n",
    "            # Selects specfic year of forest loss\n",
    "            forest_loss = hansen_ds[i,j, year_index] # need something that says if NAN, is 0\n",
    "            # Count total tree loss in a single box\n",
    "\n",
    "            if forest_loss > 0: \n",
    "                \n",
    "                tree_loss_total = 0 \n",
    "                #loop though plant numbers -- k\n",
    "                for k in [1,2,3,4,5,6,7,8]: \n",
    "                    tree_value = previous_year_file[k,i,j] # Gets old tree value from similation input data\n",
    "                    new_tree_value = tree_value * (1-forest_loss) # Creates new tree value that accounts for fraction of tree loss\n",
    "                    loss = tree_value - new_tree_value # Calculates tree loss amount for tree type in the box\n",
    "                    tree_loss_total = tree_loss_total + loss # Aggreagates loss across PFTs (trees)\n",
    "                    new_year[k,i,j] = new_tree_value # Assigns new tree value in the manipulated file\n",
    "\n",
    "                grass_type = mean_dom_grass[i,j].values\n",
    "                #print(grass_type)\n",
    "                tree_loss_total = tree_loss_total.values\n",
    "                #print(tree_loss_total)\n",
    "                old_grass = previous_year_file[int(grass_type),i,j]\n",
    "                new_year[int(grass_type),i,j] = old_grass + tree_loss_total \n",
    "   \n",
    "\n",
    "    new_year.to_netcdf(\"forest_loss_applied_\" + str(year) +  \".nc\")  \n",
    "    print(\"Year \" + str(year) + \" Done!\")\n",
    "    print()\n",
    "\n",
    "    return new_year"
   ]
  }
 ],
 "metadata": {
  "kernelspec": {
   "display_name": "Python [conda env:pangeo_copy]",
   "language": "python",
   "name": "conda-env-pangeo_copy-py"
  },
  "language_info": {
   "codemirror_mode": {
    "name": "ipython",
    "version": 3
   },
   "file_extension": ".py",
   "mimetype": "text/x-python",
   "name": "python",
   "nbconvert_exporter": "python",
   "pygments_lexer": "ipython3",
   "version": "3.7.8"
  }
 },
 "nbformat": 4,
 "nbformat_minor": 4
}
