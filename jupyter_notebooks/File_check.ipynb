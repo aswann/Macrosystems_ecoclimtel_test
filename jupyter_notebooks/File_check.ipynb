{
 "cells": [
  {
   "cell_type": "code",
   "execution_count": 1,
   "metadata": {},
   "outputs": [],
   "source": [
    "# Script that examines a single file \n",
    "\n",
    "import netCDF4 as nc4\n",
    "import numpy as np\n",
    "import pandas as pd\n",
    "#import seaborn as sns\n",
    "import matplotlib.pyplot as plt\n",
    "import dateutil.parser\n",
    "import datetime as dt\n",
    "import scipy\n",
    "import xarray as xr\n",
    "import cartopy.crs as ccrs\n",
    "from cartopy.util import add_cyclic_point\n",
    "\n",
    "from netCDF4 import Dataset\n",
    "from netCDF4 import num2date\n",
    "import pandas as pd"
   ]
  },
  {
   "cell_type": "code",
   "execution_count": 2,
   "metadata": {},
   "outputs": [],
   "source": [
    "file_list = ['10N_080W', '10N_070W', '10N_060W', '00N_080W', '00N_070W', '00N_060W', '00N_050W',\n",
    "              '10S_080W', '10S_070W', '10S_060W', '10S_050W', '20S_070W', '20S_060W', '20S_050W',\n",
    "              '00N_040W', '50N_130W', '50N_120W', '40N_130W', '40N_120W', '60N_140W', '60N_130W',\n",
    "              '60N_120W', '60N_110W', '50N_110W', '40N_110W']\n",
    "datapath='/home/disk/eos3/aswann/Shared/Data/forestmaps/hansen_landsat_forestloss/'\n",
    "filepath = datapath +'Hansen_GFC-2019-v1.7_lossyear_'"
   ]
  },
  {
   "cell_type": "code",
   "execution_count": 5,
   "metadata": {},
   "outputs": [
    {
     "name": "stdout",
     "output_type": "stream",
     "text": [
      "10S_070W\n"
     ]
    },
    {
     "data": {
      "text/plain": [
       "<matplotlib.collections.QuadMesh at 0x7f245614ce10>"
      ]
     },
     "execution_count": 5,
     "metadata": {},
     "output_type": "execute_result"
    },
    {
     "data": {
      "image/png": "[encoded data removed]",
      "text/plain": [
       "<Figure size 432x288 with 2 Axes>"
      ]
     },
     "metadata": {
      "needs_background": "light"
     },
     "output_type": "display_data"
    }
   ],
   "source": [
    "ds_test = xr.open_dataset(filepath + file_list[8] + \".nc\")\n",
    "print(file_list[8])\n",
    "ds_test['Percent'][:,:,18].plot(y = 'lat', vmin = 0, vmax = 0.05)\n",
    "#cbar = plt.colorbar(vmin = 0, vmax = 0.09)\n"
   ]
  },
  {
   "cell_type": "code",
   "execution_count": null,
   "metadata": {},
   "outputs": [],
   "source": []
  },
  {
   "cell_type": "code",
   "execution_count": null,
   "metadata": {},
   "outputs": [],
   "source": []
  }
 ],
 "metadata": {
  "kernelspec": {
   "display_name": "Python 3",
   "language": "python",
   "name": "python3"
  },
  "language_info": {
   "codemirror_mode": {
    "name": "ipython",
    "version": 3
   },
   "file_extension": ".py",
   "mimetype": "text/x-python",
   "name": "python",
   "nbconvert_exporter": "python",
   "pygments_lexer": "ipython3",
   "version": "3.8.3"
  }
 },
 "nbformat": 4,
 "nbformat_minor": 4
}
