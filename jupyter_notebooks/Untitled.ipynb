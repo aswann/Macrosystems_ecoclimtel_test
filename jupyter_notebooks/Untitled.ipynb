{
 "cells": [
  {
   "cell_type": "code",
   "execution_count": 15,
   "metadata": {},
   "outputs": [],
   "source": [
    "import netCDF4 as nc4\n",
    "import numpy as np\n",
    "import pandas as pd\n",
    "import matplotlib.pyplot as plt\n",
    "import cartopy.crs as ccrs\n",
    "import xarray as xr"
   ]
  },
  {
   "cell_type": "code",
   "execution_count": 16,
   "metadata": {},
   "outputs": [],
   "source": [
    "# Load files from netcdfs\n",
    "\n",
    "forest_loss_applied_2000 = xr.open_dataarray(\"forest_loss_applied_2000.nc\")\n",
    "forest_loss_applied_2001 = xr.open_dataarray(\"forest_loss_applied_2001.nc\")\n",
    "forest_loss_applied_2002 = xr.open_dataarray(\"forest_loss_applied_2002.nc\")\n",
    "forest_loss_applied_2003 = xr.open_dataarray(\"forest_loss_applied_2003.nc\")\n",
    "forest_loss_applied_2004 = xr.open_dataarray(\"forest_loss_applied_2004.nc\")\n",
    "forest_loss_applied_2005 = xr.open_dataarray(\"forest_loss_applied_2005.nc\")\n",
    "forest_loss_applied_2006 = xr.open_dataarray(\"forest_loss_applied_2006.nc\")\n",
    "forest_loss_applied_2007 = xr.open_dataarray(\"forest_loss_applied_2007.nc\")\n",
    "forest_loss_applied_2008 = xr.open_dataarray(\"forest_loss_applied_2008.nc\")\n",
    "forest_loss_applied_2009 = xr.open_dataarray(\"forest_loss_applied_2009.nc\")\n",
    "forest_loss_applied_2010 = xr.open_dataarray(\"forest_loss_applied_2010.nc\")\n",
    "forest_loss_applied_2011 = xr.open_dataarray(\"forest_loss_applied_2011.nc\")\n",
    "forest_loss_applied_2012 = xr.open_dataarray(\"forest_loss_applied_2012.nc\")\n",
    "forest_loss_applied_2013 = xr.open_dataarray(\"forest_loss_applied_2013.nc\")\n",
    "forest_loss_applied_2014 = xr.open_dataarray(\"forest_loss_applied_2014.nc\")\n",
    "forest_loss_applied_2015 = xr.open_dataarray(\"forest_loss_applied_2015.nc\")\n",
    "\n",
    "sim_2000 = xr.open_dataarray(\"sim_2000.nc\")\n"
   ]
  },
  {
   "cell_type": "code",
   "execution_count": 17,
   "metadata": {},
   "outputs": [],
   "source": [
    "# Combine all files into one file \n",
    "\n",
    "forest_loss_applied = xr.concat([forest_loss_applied_2000, forest_loss_applied_2001, forest_loss_applied_2002, \n",
    "           forest_loss_applied_2003, forest_loss_applied_2004, forest_loss_applied_2005,\n",
    "           forest_loss_applied_2006, forest_loss_applied_2007, forest_loss_applied_2008,\n",
    "           forest_loss_applied_2009, forest_loss_applied_2010, forest_loss_applied_2011,\n",
    "           forest_loss_applied_2012, forest_loss_applied_2013, forest_loss_applied_2014,\n",
    "           forest_loss_applied_2015], dim=\"year\")\n"
   ]
  },
  {
   "cell_type": "code",
   "execution_count": 4,
   "metadata": {},
   "outputs": [
    {
     "data": {
      "text/plain": [
       "<bound method DataArray.head of <xarray.DataArray 'PCT_NAT_PFT' (natpft: 15, lsmlat: 192, lsmlon: 288)>\n",
       "[829440 values with dtype=float64]\n",
       "Coordinates:\n",
       "  * natpft   (natpft) int32 0 1 2 3 4 5 6 7 8 9 10 11 12 13 14\n",
       "    time     int32 ...\n",
       "  * lsmlat   (lsmlat) float64 -90.0 -89.06 -88.12 -87.19 ... 87.19 88.12 89.06\n",
       "  * lsmlon   (lsmlon) float64 0.0 1.25 2.5 3.75 5.0 ... 355.0 356.2 357.5 358.8\n",
       "Attributes:\n",
       "    long_name:  percent plant functional type on the natural veg landunit (% ...\n",
       "    units:      unitless>"
      ]
     },
     "execution_count": 4,
     "metadata": {},
     "output_type": "execute_result"
    }
   ],
   "source": [
    "sim_2000.head"
   ]
  },
  {
   "cell_type": "code",
   "execution_count": 5,
   "metadata": {},
   "outputs": [],
   "source": [
    "# Script to replace with unchanging Amazon (or other section)\n",
    "\n",
    "\n",
    "def replace_location_with_simulation_file(forest_loss_applied_file, lat_start, lat_end, \n",
    "                                          lon_start, lon_end, replace_with_file):\n",
    "    \n",
    "    new_file = forest_loss_applied_file[:,:,:,:]\n",
    "    \n",
    "    for lat in np.arange(lat_start,lat_end):\n",
    "        for lon in np.arange(lon_start,lon_end): \n",
    "            for plant in np.arange(0,15):\n",
    "                new_file[:, plant, lat, lon] = replace_with_file[plant, lat, lon]\n",
    "   \n",
    "    return new_file\n",
    "\n",
    "\n",
    "\n",
    "# Freeze NH or Amazon area at 1965 (amazon), or 1995 (NH) for the whole time. "
   ]
  },
  {
   "cell_type": "code",
   "execution_count": null,
   "metadata": {},
   "outputs": [],
   "source": [
    "# Define boxes \n",
    "# Write so that function can just take in the lat and lon boxes\n",
    "# for Americas W 103 to w 170 , S30, N 64\n",
    "# for Amazon 15 n, 20 s, west 35 and west 85\n",
    "\n"
   ]
  },
  {
   "cell_type": "code",
   "execution_count": 14,
   "metadata": {},
   "outputs": [],
   "source": [
    "test = replace_location_with_simulation_file(forest_loss_applied, 0, 192, 0, 288, sim_2000)"
   ]
  },
  {
   "cell_type": "code",
   "execution_count": null,
   "metadata": {},
   "outputs": [],
   "source": [
    "# for big loop\n",
    "# If not in the hansen, put in simulation for that year \n",
    "\n",
    "# start with the sim for the correct year \n",
    "# "
   ]
  },
  {
   "cell_type": "code",
   "execution_count": null,
   "metadata": {},
   "outputs": [],
   "source": []
  }
 ],
 "metadata": {
  "kernelspec": {
   "display_name": "Python [conda env:pangeo_copy]",
   "language": "python",
   "name": "conda-env-pangeo_copy-py"
  },
  "language_info": {
   "codemirror_mode": {
    "name": "ipython",
    "version": 3
   },
   "file_extension": ".py",
   "mimetype": "text/x-python",
   "name": "python",
   "nbconvert_exporter": "python",
   "pygments_lexer": "ipython3",
   "version": "3.7.8"
  }
 },
 "nbformat": 4,
 "nbformat_minor": 4
}
